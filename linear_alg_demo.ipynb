{
 "cells": [
  {
   "cell_type": "code",
   "execution_count": 11,
   "id": "02ae1cd6-8916-4076-924f-c62a3da0abb4",
   "metadata": {},
   "outputs": [
    {
     "name": "stdout",
     "output_type": "stream",
     "text": [
      "10\n"
     ]
    }
   ],
   "source": [
    "import numpy as np\n",
    "A = np.array([1,2,3])\n",
    "B = np.array([2,1,2])\n",
    "result = np.inner(A,B)\n",
    "print(result)"
   ]
  },
  {
   "cell_type": "code",
   "execution_count": 12,
   "id": "f5033aa2-5c0a-4359-9faa-cb3ebbd98a2d",
   "metadata": {},
   "outputs": [
    {
     "name": "stdout",
     "output_type": "stream",
     "text": [
      "[[14  8]\n",
      " [ 9  5]]\n"
     ]
    }
   ],
   "source": [
    "X = np.array([[2,3],[1,2]])\n",
    "Y = np.array([[1,4],[1,2]])\n",
    "result = np.inner(X,Y)\n",
    "print(result)"
   ]
  },
  {
   "cell_type": "code",
   "execution_count": 10,
   "id": "6fe0e2cc-7a03-4521-a1c6-1d19b4fc1d03",
   "metadata": {},
   "outputs": [
    {
     "name": "stdout",
     "output_type": "stream",
     "text": [
      "[[2 1 2]\n",
      " [4 2 4]\n",
      " [6 3 6]]\n"
     ]
    }
   ],
   "source": [
    "import numpy as np\n",
    "A = np.array([1,2,3])\n",
    "B = np.array([2,1,2])\n",
    "result = np.outer(A,B)\n",
    "print(result)"
   ]
  },
  {
   "cell_type": "code",
   "execution_count": 7,
   "id": "ab57a138-501b-44b2-95f9-a054827ce0ab",
   "metadata": {},
   "outputs": [
    {
     "name": "stdout",
     "output_type": "stream",
     "text": [
      "[[ 2  8  2  4]\n",
      " [ 3 12  3  6]\n",
      " [ 1  4  1  2]\n",
      " [ 2  8  2  4]]\n"
     ]
    }
   ],
   "source": [
    "X = np.array([[2,3],[1,2]])\n",
    "Y = np.array([[1,4],[1,2]])\n",
    "result = np.outer(X,Y)\n",
    "print(result)"
   ]
  },
  {
   "cell_type": "code",
   "execution_count": 15,
   "id": "13083a64-b39c-4fb8-a319-16523501f7fe",
   "metadata": {},
   "outputs": [],
   "source": [
    "A = np.array([[3,2],[3,4]])\n",
    "det_A = np.linalg.det(A)"
   ]
  },
  {
   "cell_type": "code",
   "execution_count": 16,
   "id": "4da339cc-748e-4ce6-8090-306528fb722d",
   "metadata": {},
   "outputs": [
    {
     "data": {
      "text/plain": [
       "6.0"
      ]
     },
     "execution_count": 16,
     "metadata": {},
     "output_type": "execute_result"
    }
   ],
   "source": [
    "det_A "
   ]
  },
  {
   "cell_type": "code",
   "execution_count": 23,
   "id": "c52fc6cf-31f0-485d-adec-72c1c3570899",
   "metadata": {},
   "outputs": [],
   "source": [
    "B = np.array([[1,2,3],[1,3,4],[1,5,3]])\n",
    "det_B = np.linalg.det(B)"
   ]
  },
  {
   "cell_type": "code",
   "execution_count": 24,
   "id": "77f3fe21-ccac-4f16-ad28-7940da00ba1b",
   "metadata": {},
   "outputs": [
    {
     "data": {
      "text/plain": [
       "-3.0000000000000004"
      ]
     },
     "execution_count": 24,
     "metadata": {},
     "output_type": "execute_result"
    }
   ],
   "source": [
    "det_B"
   ]
  },
  {
   "cell_type": "code",
   "execution_count": 25,
   "id": "c48e64cc-d4bb-4bb5-ba82-44de1460b363",
   "metadata": {},
   "outputs": [
    {
     "name": "stdout",
     "output_type": "stream",
     "text": [
      "[ 6.  -0.5]\n"
     ]
    }
   ],
   "source": [
    "A = np.array([[1,4],[1,2]])\n",
    "b = np.array([4,5])\n",
    "x = np.linalg.solve(A,b)\n",
    "print(x)"
   ]
  },
  {
   "cell_type": "code",
   "execution_count": 26,
   "id": "ae7f82b5-cc72-4dad-9db3-a3ce4e855578",
   "metadata": {},
   "outputs": [
    {
     "name": "stdout",
     "output_type": "stream",
     "text": [
      "[[ 3. -2.]\n",
      " [-1.  1.]]\n"
     ]
    }
   ],
   "source": [
    "A = np.array([[1,2],[1,3]])\n",
    "inv_A = np.linalg.inv(A)\n",
    "print(inv_A)"
   ]
  },
  {
   "cell_type": "code",
   "execution_count": null,
   "id": "6610787e-479e-45fa-8e94-db6b75499491",
   "metadata": {},
   "outputs": [],
   "source": []
  },
  {
   "cell_type": "code",
   "execution_count": null,
   "id": "fd3ba5e8-a22c-466e-83a1-564dd3362cbd",
   "metadata": {},
   "outputs": [],
   "source": []
  }
 ],
 "metadata": {
  "kernelspec": {
   "display_name": "Python 3 (ipykernel)",
   "language": "python",
   "name": "python3"
  },
  "language_info": {
   "codemirror_mode": {
    "name": "ipython",
    "version": 3
   },
   "file_extension": ".py",
   "mimetype": "text/x-python",
   "name": "python",
   "nbconvert_exporter": "python",
   "pygments_lexer": "ipython3",
   "version": "3.11.0"
  }
 },
 "nbformat": 4,
 "nbformat_minor": 5
}
