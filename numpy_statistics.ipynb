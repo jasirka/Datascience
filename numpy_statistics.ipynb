{
 "cells": [
  {
   "cell_type": "code",
   "execution_count": 1,
   "id": "d82eb609-137f-4fe2-b840-115b192d30e7",
   "metadata": {},
   "outputs": [],
   "source": [
    "import numpy as np"
   ]
  },
  {
   "cell_type": "code",
   "execution_count": 2,
   "id": "478c96fe-e3fd-46d7-a609-dad53e338700",
   "metadata": {},
   "outputs": [],
   "source": [
    "arr = np.array([43,54,56,23,57,32,34,47,49])"
   ]
  },
  {
   "cell_type": "code",
   "execution_count": 3,
   "id": "c8580fe6-c6d0-4726-92a8-4c9e8e243043",
   "metadata": {},
   "outputs": [],
   "source": [
    "mean_of_arr = np.mean(arr)"
   ]
  },
  {
   "cell_type": "code",
   "execution_count": 4,
   "id": "40789790-82de-4728-8ead-2baff8c37078",
   "metadata": {},
   "outputs": [
    {
     "data": {
      "text/plain": [
       "np.float64(43.888888888888886)"
      ]
     },
     "execution_count": 4,
     "metadata": {},
     "output_type": "execute_result"
    }
   ],
   "source": [
    "mean_of_arr"
   ]
  },
  {
   "cell_type": "code",
   "execution_count": 5,
   "id": "44737146-0408-48cb-a314-d9d79ae062a9",
   "metadata": {},
   "outputs": [],
   "source": [
    "median_of_arr = np.median(arr)"
   ]
  },
  {
   "cell_type": "code",
   "execution_count": 6,
   "id": "e12e30dd-57de-4216-a0c8-f0180ee280ef",
   "metadata": {},
   "outputs": [
    {
     "data": {
      "text/plain": [
       "np.float64(47.0)"
      ]
     },
     "execution_count": 6,
     "metadata": {},
     "output_type": "execute_result"
    }
   ],
   "source": [
    "median_of_arr"
   ]
  },
  {
   "cell_type": "code",
   "execution_count": 7,
   "id": "4cecb475-cb6a-4174-8d9b-1c344e82ed24",
   "metadata": {},
   "outputs": [],
   "source": [
    "std_of_arr = np.std(arr)"
   ]
  },
  {
   "cell_type": "code",
   "execution_count": 8,
   "id": "649e4c70-467c-4b70-bac1-e31361923522",
   "metadata": {},
   "outputs": [
    {
     "data": {
      "text/plain": [
       "np.float64(11.219471610101634)"
      ]
     },
     "execution_count": 8,
     "metadata": {},
     "output_type": "execute_result"
    }
   ],
   "source": [
    "std_of_arr"
   ]
  },
  {
   "cell_type": "code",
   "execution_count": 9,
   "id": "32577fe8-fd79-4d9d-896e-50bfc3b9bee2",
   "metadata": {},
   "outputs": [],
   "source": [
    "var_of_arr = np.var(arr)"
   ]
  },
  {
   "cell_type": "code",
   "execution_count": 10,
   "id": "257e41ff-f230-40e1-a351-76849b26693d",
   "metadata": {},
   "outputs": [
    {
     "data": {
      "text/plain": [
       "np.float64(125.87654320987654)"
      ]
     },
     "execution_count": 10,
     "metadata": {},
     "output_type": "execute_result"
    }
   ],
   "source": [
    "var_of_arr"
   ]
  },
  {
   "cell_type": "code",
   "execution_count": 11,
   "id": "4d27b25d-b31f-4c89-95e2-142ba8117af2",
   "metadata": {},
   "outputs": [],
   "source": [
    "min_arr = np.min(arr)"
   ]
  },
  {
   "cell_type": "code",
   "execution_count": 12,
   "id": "d25b7d51-e881-406d-af3d-1e8c71988c5c",
   "metadata": {},
   "outputs": [
    {
     "data": {
      "text/plain": [
       "np.int64(23)"
      ]
     },
     "execution_count": 12,
     "metadata": {},
     "output_type": "execute_result"
    }
   ],
   "source": [
    "min_arr"
   ]
  },
  {
   "cell_type": "code",
   "execution_count": 13,
   "id": "9ce1d7b4-a066-4dee-ae68-db4150c95b86",
   "metadata": {},
   "outputs": [],
   "source": [
    "max_arr = np.max(arr)"
   ]
  },
  {
   "cell_type": "code",
   "execution_count": 14,
   "id": "83479f5e-9741-42f5-b5f4-dc4a74306420",
   "metadata": {},
   "outputs": [
    {
     "data": {
      "text/plain": [
       "np.int64(57)"
      ]
     },
     "execution_count": 14,
     "metadata": {},
     "output_type": "execute_result"
    }
   ],
   "source": [
    "max_arr"
   ]
  },
  {
   "cell_type": "code",
   "execution_count": 15,
   "id": "7007c2ef-c25d-491f-85e5-87a6f8c03e96",
   "metadata": {},
   "outputs": [],
   "source": [
    "range_arr = np.ptp(arr)"
   ]
  },
  {
   "cell_type": "code",
   "execution_count": 16,
   "id": "a8d2a796-5156-4527-b139-afb46b63df11",
   "metadata": {},
   "outputs": [
    {
     "data": {
      "text/plain": [
       "np.int64(34)"
      ]
     },
     "execution_count": 16,
     "metadata": {},
     "output_type": "execute_result"
    }
   ],
   "source": [
    "range_arr"
   ]
  },
  {
   "cell_type": "code",
   "execution_count": 20,
   "id": "ee965039-0d68-4a28-8075-f7e4eec58f54",
   "metadata": {},
   "outputs": [],
   "source": [
    "percentile_arr = np.percentile(arr, [25, 50, 75])"
   ]
  },
  {
   "cell_type": "code",
   "execution_count": 21,
   "id": "b1e4177c-3366-476b-9d2f-5c528aed6f69",
   "metadata": {},
   "outputs": [
    {
     "data": {
      "text/plain": [
       "array([34., 47., 54.])"
      ]
     },
     "execution_count": 21,
     "metadata": {},
     "output_type": "execute_result"
    }
   ],
   "source": [
    "percentile_arr"
   ]
  },
  {
   "cell_type": "code",
   "execution_count": 27,
   "id": "56990717-f645-4e65-a69e-82f8c8d7598b",
   "metadata": {},
   "outputs": [],
   "source": [
    "quantile_arr = np.quantile(arr,0.5)"
   ]
  },
  {
   "cell_type": "code",
   "execution_count": 28,
   "id": "cb58d193-6b18-417d-8314-84d295bdc78a",
   "metadata": {},
   "outputs": [
    {
     "data": {
      "text/plain": [
       "np.float64(47.0)"
      ]
     },
     "execution_count": 28,
     "metadata": {},
     "output_type": "execute_result"
    }
   ],
   "source": [
    "quantile_arr"
   ]
  },
  {
   "cell_type": "code",
   "execution_count": null,
   "id": "c4fade40-d024-4bfb-b219-2e54034a3062",
   "metadata": {},
   "outputs": [],
   "source": []
  }
 ],
 "metadata": {
  "kernelspec": {
   "display_name": "Python 3 (ipykernel)",
   "language": "python",
   "name": "python3"
  },
  "language_info": {
   "codemirror_mode": {
    "name": "ipython",
    "version": 3
   },
   "file_extension": ".py",
   "mimetype": "text/x-python",
   "name": "python",
   "nbconvert_exporter": "python",
   "pygments_lexer": "ipython3",
   "version": "3.11.0"
  }
 },
 "nbformat": 4,
 "nbformat_minor": 5
}
