{
 "cells": [
  {
   "cell_type": "code",
   "execution_count": 1,
   "id": "7730432c-76bf-4fe4-896a-91605895a62c",
   "metadata": {},
   "outputs": [
    {
     "name": "stdout",
     "output_type": "stream",
     "text": [
      "  message: Optimization terminated successfully.\n",
      "  success: True\n",
      "   status: 0\n",
      "      fun: 10.0\n",
      "        x: [ 3.000e+00]\n",
      "      nit: 2\n",
      "      jac: [ 1.192e-07]\n",
      " hess_inv: [[ 5.000e-01]]\n",
      "     nfev: 6\n",
      "     njev: 3\n"
     ]
    }
   ],
   "source": [
    "# Minimize the function f(x)=(x−3)2+10f(x)=(x−3)2+10.\n",
    "\n",
    "# Use scipy.optimize.minimize.\n",
    "\n",
    "# Print the optimal x and the minimum value.\n",
    "\n",
    "from scipy.optimize import minimize\n",
    "\n",
    "f = lambda x: (x-3)**2 + 10\n",
    "result = minimize(f, x0=0)\n",
    "print(result)\n",
    "#fun is optimum value"
   ]
  },
  {
   "cell_type": "code",
   "execution_count": 2,
   "id": "37655c8d-4567-42c4-99d2-a41b1d33779e",
   "metadata": {},
   "outputs": [
    {
     "name": "stdout",
     "output_type": "stream",
     "text": [
      "Integral = 9.000000000000002, Error = 9.992007221626411e-14\n"
     ]
    }
   ],
   "source": [
    "#Integrate f(x)=x2f(x)=x2 from 0 to 3 using scipy.integrate.quad.\n",
    "from scipy.integrate import quad\n",
    "\n",
    "result, error = quad(lambda x: x**2, 0, 3)\n",
    "print(f\"Integral = {result}, Error = {error}\")\n"
   ]
  },
  {
   "cell_type": "code",
   "execution_count": 3,
   "id": "e6553dc2-f53d-4975-9fb4-5a6922f817da",
   "metadata": {},
   "outputs": [
    {
     "name": "stdout",
     "output_type": "stream",
     "text": [
      "[0.  2.5]\n"
     ]
    }
   ],
   "source": [
    "# Solve the system of equations:\n",
    "from scipy.linalg import solve\n",
    "import numpy as np\n",
    "\n",
    "A = np.array([[3,2],[1,2]])\n",
    "b = np.array([5,5])\n",
    "x = solve(A, b)\n",
    "print(x)  # should print the solution vector\n"
   ]
  },
  {
   "cell_type": "code",
   "execution_count": 4,
   "id": "acfd5fa7-41f8-4c7d-a8f0-b3e2db6d3d9f",
   "metadata": {},
   "outputs": [
    {
     "name": "stdout",
     "output_type": "stream",
     "text": [
      "Skewness: 0.1358, Kurtosis: -0.1719\n"
     ]
    }
   ],
   "source": [
    "# Generate a normally distributed dataset and compute its skewness and kurtosis.\n",
    "import numpy as np\n",
    "from scipy import stats\n",
    "\n",
    "# Generate 1000 normally distributed points\n",
    "data = np.random.normal(loc=0, scale=1, size=1000)\n",
    "\n",
    "# Compute and print skewness and kurtosis\n",
    "skewness = stats.skew(data)\n",
    "kurtosis = stats.kurtosis(data)  # excess kurtosis\n",
    "print(f\"Skewness: {skewness:.4f}, Kurtosis: {kurtosis:.4f}\")\n"
   ]
  },
  {
   "cell_type": "code",
   "execution_count": null,
   "id": "7a74c452-9645-43c3-97e7-a944fefaf241",
   "metadata": {},
   "outputs": [],
   "source": [
    "# What the code means:\n",
    "\n",
    "# data = np.random.normal(loc=0, scale=1, size=1000)\n",
    "\n",
    "# This line is using NumPy’s np.random.normal() to generate 1000 random numbers that follow a normal (Gaussian) distribution.\n",
    "\n",
    "# Here’s what each argument does:\n",
    "# Argument\tMeaning\n",
    "# loc=0\tThe mean of the normal distribution. (Here, mean = 0)\n",
    "# scale=1\tThe standard deviation of the normal distribution. (Here, std = 1)\n",
    "# size=1000\tNumber of random values you want to generate. (Here, 1000 data points)"
   ]
  },
  {
   "cell_type": "code",
   "execution_count": null,
   "id": "cf17b84f-1c1f-4bee-879a-4cc75d6a1340",
   "metadata": {},
   "outputs": [],
   "source": [
    "#  Compute Quartiles and IQR on Random Data\n",
    "\n",
    "# Goal:\n",
    "\n",
    "#     Generate 20 random integers between 0 and 100.\n",
    "\n",
    "#     Compute Q1, Q2 (median), Q3, and IQR."
   ]
  },
  {
   "cell_type": "code",
   "execution_count": 5,
   "id": "5d74301d-32d8-4a34-9ca8-499e3af9cce2",
   "metadata": {},
   "outputs": [
    {
     "name": "stdout",
     "output_type": "stream",
     "text": [
      "Data: [ 7 65  1 59 83 82  1 66 23 29 40 20 82 84  7 83 26 99 92 40]\n",
      "Q1=22.25, Median(Q2)=49.5, Q3=82.25, IQR=60.0\n"
     ]
    }
   ],
   "source": [
    "import numpy as np\n",
    "\n",
    "# 1. Generate random data\n",
    "data = np.random.randint(0, 101, size=20)\n",
    "\n",
    "# 2. Compute quartiles\n",
    "q1 = np.percentile(data, 25)\n",
    "q2 = np.percentile(data, 50)\n",
    "q3 = np.percentile(data, 75)\n",
    "\n",
    "# 3. Compute IQR\n",
    "iqr = q3 - q1\n",
    "\n",
    "print(f\"Data: {data}\")\n",
    "print(f\"Q1={q1}, Median(Q2)={q2}, Q3={q3}, IQR={iqr}\")\n"
   ]
  },
  {
   "cell_type": "code",
   "execution_count": null,
   "id": "d124283a-5767-4b78-b5de-b608f0ba6e47",
   "metadata": {},
   "outputs": [],
   "source": []
  }
 ],
 "metadata": {
  "kernelspec": {
   "display_name": "Python 3 (ipykernel)",
   "language": "python",
   "name": "python3"
  },
  "language_info": {
   "codemirror_mode": {
    "name": "ipython",
    "version": 3
   },
   "file_extension": ".py",
   "mimetype": "text/x-python",
   "name": "python",
   "nbconvert_exporter": "python",
   "pygments_lexer": "ipython3",
   "version": "3.13.1"
  }
 },
 "nbformat": 4,
 "nbformat_minor": 5
}
