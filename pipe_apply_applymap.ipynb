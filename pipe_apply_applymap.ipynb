{
 "cells": [
  {
   "cell_type": "code",
   "execution_count": 2,
   "id": "67c7f28d-b5b0-4a98-bd76-0eccb1c4e4e2",
   "metadata": {},
   "outputs": [
    {
     "name": "stdout",
     "output_type": "stream",
     "text": [
      "   A\n",
      "0  2\n",
      "1  3\n",
      "2  4\n"
     ]
    }
   ],
   "source": [
    "import pandas as pd\n",
    "def add_one(df):\n",
    "    df[\"A\"] = df[\"A\"] + 1\n",
    "    return df\n",
    "\n",
    "df = pd.DataFrame({\"A\": [1, 2, 3]})\n",
    "df = df.pipe(add_one)  # Same as add_one(df)\n",
    "print(df)\n"
   ]
  },
  {
   "cell_type": "code",
   "execution_count": 3,
   "id": "31482f03-bc9f-4100-910e-a5d359401c49",
   "metadata": {},
   "outputs": [
    {
     "name": "stdout",
     "output_type": "stream",
     "text": [
      "0    5\n",
      "1    7\n",
      "2    9\n",
      "dtype: int64\n",
      "A     6\n",
      "B    15\n",
      "dtype: int64\n"
     ]
    }
   ],
   "source": [
    "df = pd.DataFrame({\"A\": [1, 2, 3], \"B\": [4, 5, 6]})\n",
    "\n",
    "# Sum of each row\n",
    "print(df.apply(sum, axis=1))\n",
    "\n",
    "# Sum of each column\n",
    "print(df.apply(sum, axis=0))\n"
   ]
  },
  {
   "cell_type": "code",
   "execution_count": 4,
   "id": "1437ee18-4e05-43d0-a6f8-19ac6e7f6f4b",
   "metadata": {},
   "outputs": [
    {
     "name": "stdout",
     "output_type": "stream",
     "text": [
      "    A   B\n",
      "0  10  30\n",
      "1  20  40\n"
     ]
    },
    {
     "name": "stderr",
     "output_type": "stream",
     "text": [
      "C:\\Users\\PYTHON\\AppData\\Local\\Temp\\ipykernel_7792\\3951547062.py:4: FutureWarning: DataFrame.applymap has been deprecated. Use DataFrame.map instead.\n",
      "  print(df.applymap(lambda x: x * 10))\n"
     ]
    }
   ],
   "source": [
    "df = pd.DataFrame({\"A\": [1, 2], \"B\": [3, 4]})\n",
    "\n",
    "# Multiply every value by 10\n",
    "print(df.applymap(lambda x: x * 10))\n"
   ]
  },
  {
   "cell_type": "code",
   "execution_count": 5,
   "id": "50f2faef-af1f-4095-b632-2080cb742ff3",
   "metadata": {},
   "outputs": [
    {
     "name": "stdout",
     "output_type": "stream",
     "text": [
      "   A   B\n",
      "0  2  10\n",
      "1  3  20\n",
      "2  4  30\n"
     ]
    }
   ],
   "source": [
    "import pandas as pd\n",
    "\n",
    "# Function to add 1 to column 'A'\n",
    "def add_one(df):\n",
    "    df[\"A\"] = df[\"A\"] + 1\n",
    "    return df\n",
    "\n",
    "# Sample DataFrame with columns A and B\n",
    "df = pd.DataFrame({\n",
    "    \"A\": [1, 2, 3],\n",
    "    \"B\": [10, 20, 30]\n",
    "})\n",
    "\n",
    "# Use pipe to apply the function\n",
    "df = df.pipe(add_one)\n",
    "\n",
    "print(df)\n"
   ]
  },
  {
   "cell_type": "code",
   "execution_count": null,
   "id": "f3dd4175-6ef4-4481-bf61-6c3d3ef6b87e",
   "metadata": {},
   "outputs": [],
   "source": []
  }
 ],
 "metadata": {
  "kernelspec": {
   "display_name": "Python 3 (ipykernel)",
   "language": "python",
   "name": "python3"
  },
  "language_info": {
   "codemirror_mode": {
    "name": "ipython",
    "version": 3
   },
   "file_extension": ".py",
   "mimetype": "text/x-python",
   "name": "python",
   "nbconvert_exporter": "python",
   "pygments_lexer": "ipython3",
   "version": "3.13.1"
  }
 },
 "nbformat": 4,
 "nbformat_minor": 5
}
