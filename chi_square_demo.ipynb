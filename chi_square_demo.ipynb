{
 "cells": [
  {
   "cell_type": "code",
   "execution_count": 6,
   "id": "232f05a3-56bc-4ab5-be83-01193bd747cd",
   "metadata": {},
   "outputs": [],
   "source": [
    "import pandas as pd\n",
    "from scipy.stats import chi2_contingency"
   ]
  },
  {
   "cell_type": "code",
   "execution_count": 8,
   "id": "5ecaf339-b3f2-464a-ab9a-b2a33eb96b2f",
   "metadata": {},
   "outputs": [
    {
     "name": "stdout",
     "output_type": "stream",
     "text": [
      "chi2: 0.646, p-value: 0.421, degrees of freedom: 1\n",
      "Expected frequencies:\n",
      "[[27.5 22.5]\n",
      " [27.5 22.5]]\n"
     ]
    }
   ],
   "source": [
    "data = pd.DataFrame({\n",
    "    'Gender': ['Male', 'Male', 'Female', 'Female'],\n",
    "    'Buy': ['Yes', 'No', 'Yes', 'No'],\n",
    "    'Count': [20, 30, 25, 25]\n",
    "})\n",
    "table = data.pivot(index='Gender', columns='Buy', values='Count')\n",
    "chi2, p, dof, expected = chi2_contingency(table)\n",
    "print(f'chi2: {chi2:.3f}, p-value: {p:.3f}, degrees of freedom: {dof}')\n",
    "print('Expected frequencies:')\n",
    "print(expected)"
   ]
  },
  {
   "cell_type": "code",
   "execution_count": 9,
   "id": "1170ef60-541a-48ab-ba3a-e9dcdf8c4715",
   "metadata": {},
   "outputs": [],
   "source": [
    "data = pd.DataFrame({\n",
    "    'Gender': ['Male', 'Male', 'Female', 'Female', 'Male', 'Female', 'Male'],\n",
    "    'Buy': ['Yes', 'No', 'Yes', 'No', 'No', 'Yes', 'Yes']\n",
    "})\n"
   ]
  },
  {
   "cell_type": "code",
   "execution_count": 11,
   "id": "928775f5-9da1-4266-874a-1f93b42173fe",
   "metadata": {},
   "outputs": [],
   "source": [
    "table = pd.crosstab(data['Gender'], data['Buy'])"
   ]
  },
  {
   "cell_type": "code",
   "execution_count": 12,
   "id": "0e85fcb0-a056-4998-a112-f50a9415e7b9",
   "metadata": {},
   "outputs": [
    {
     "name": "stdout",
     "output_type": "stream",
     "text": [
      "Buy     No  Yes\n",
      "Gender         \n",
      "Female   1    2\n",
      "Male     2    2\n"
     ]
    }
   ],
   "source": [
    "print(table)"
   ]
  },
  {
   "cell_type": "code",
   "execution_count": null,
   "id": "2d1053fe-16cd-4d0b-b6d4-3360ec815ac7",
   "metadata": {},
   "outputs": [],
   "source": []
  },
  {
   "cell_type": "code",
   "execution_count": null,
   "id": "5a66bc43-6cd8-49cf-88b9-843e436402af",
   "metadata": {},
   "outputs": [],
   "source": []
  },
  {
   "cell_type": "code",
   "execution_count": null,
   "id": "3df94245-338e-4107-bc58-41ec8334a576",
   "metadata": {},
   "outputs": [],
   "source": []
  }
 ],
 "metadata": {
  "kernelspec": {
   "display_name": "Python [conda env:base] *",
   "language": "python",
   "name": "conda-base-py"
  },
  "language_info": {
   "codemirror_mode": {
    "name": "ipython",
    "version": 3
   },
   "file_extension": ".py",
   "mimetype": "text/x-python",
   "name": "python",
   "nbconvert_exporter": "python",
   "pygments_lexer": "ipython3",
   "version": "3.13.5"
  }
 },
 "nbformat": 4,
 "nbformat_minor": 5
}
