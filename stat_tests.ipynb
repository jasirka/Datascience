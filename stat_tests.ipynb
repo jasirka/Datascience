{
 "cells": [
  {
   "cell_type": "code",
   "execution_count": 4,
   "id": "286068dd-0148-4bf9-ae8f-f1fa3af7b5db",
   "metadata": {},
   "outputs": [
    {
     "name": "stdout",
     "output_type": "stream",
     "text": [
      "t-statistic = -7.906, p-value = 0.000\n",
      "Reject the null hypothesis\n"
     ]
    }
   ],
   "source": [
    "import numpy as np\n",
    "from scipy import stats\n",
    "\n",
    "# Sample data: average weight of 10 people\n",
    "data = np.array([58, 60, 62, 57, 63, 59, 61, 60, 58, 62])\n",
    "\n",
    "# Test if mean is different from 60\n",
    "t_stat, p_val = stats.ttest_1samp(data, popmean=60)\n",
    "print(f\"t-statistic = {t_stat:.3f}, p-value = {p_val:.3f}\")\n",
    "\n",
    "if p_val < 0.05:\n",
    "    print(\"Reject the null hypothesis\")\n",
    "else:\n",
    "    print(\"Fail to reject the null hypothesis\")\n"
   ]
  },
  {
   "cell_type": "code",
   "execution_count": 3,
   "id": "f045e2d8-588b-4353-bceb-35e9ce7805fb",
   "metadata": {},
   "outputs": [
    {
     "data": {
      "text/plain": [
       "60.0"
      ]
     },
     "execution_count": 3,
     "metadata": {},
     "output_type": "execute_result"
    }
   ],
   "source": [
    "x"
   ]
  },
  {
   "cell_type": "code",
   "execution_count": 5,
   "id": "e2b34044-ebe0-4305-9b6e-a3d124d3b323",
   "metadata": {},
   "outputs": [
    {
     "name": "stdout",
     "output_type": "stream",
     "text": [
      "Mean of class_A: 84.30\n",
      "Mean of class_B: 70.90\n",
      "\n",
      "T-statistic = 7.376, p-value = 0.0000\n",
      "Reject the null hypothesis (p < 0.05). The means are significantly different.\n"
     ]
    }
   ],
   "source": [
    "import numpy as np\n",
    "from scipy import stats\n",
    "\n",
    "# Sample data: test scores for two classes\n",
    "class_A = np.array([78, 85, 90, 88, 76, 84, 79, 91, 85, 87])  # Method A\n",
    "class_B = np.array([72, 70, 68, 74, 69, 73, 70, 67, 75, 71])  # Method B\n",
    "\n",
    "# Compute the mean for each\n",
    "print(f\"Mean of class_A: {np.mean(class_A):.2f}\")\n",
    "print(f\"Mean of class_B: {np.mean(class_B):.2f}\")\n",
    "\n",
    "# Perform independent two-sample t-Test\n",
    "t_stat, p_val = stats.ttest_ind(class_A, class_B)\n",
    "print(f\"\\nT-statistic = {t_stat:.3f}, p-value = {p_val:.4f}\")\n",
    "\n",
    "# Check if significant\n",
    "alpha = 0.05\n",
    "if p_val < alpha:\n",
    "    print(f\"Reject the null hypothesis (p < {alpha}). The means are significantly different.\")\n",
    "else:\n",
    "    print(f\"Fail to reject the null hypothesis (p ≥ {alpha}). No significant difference between means.\")\n"
   ]
  },
  {
   "cell_type": "code",
   "execution_count": 6,
   "id": "5b334405-4736-424d-8d59-12ecdb40020b",
   "metadata": {},
   "outputs": [
    {
     "name": "stdout",
     "output_type": "stream",
     "text": [
      "Z-statistic = 2.108\n",
      "P-value = 0.0175\n",
      "Reject the null hypothesis: The mean caffeine is greater than 200 mg.\n"
     ]
    }
   ],
   "source": [
    "#  Z-Test Exercise 1:\n",
    "# A company claims its energy drink contains 200 mg of caffeine on average. Population std. dev. is 15 mg.\n",
    "# You take a sample of 40 cans and find a sample mean of 205 mg.\n",
    "# Test at α = 0.05 if the drink contains more caffeine than advertised.\n",
    "import numpy as np\n",
    "from scipy.stats import norm\n",
    "\n",
    "# Given values\n",
    "mu_0 = 200       # Claimed mean\n",
    "sigma = 15       # Population standard deviation\n",
    "x_bar = 205      # Sample mean\n",
    "n = 40           # Sample size\n",
    "alpha = 0.05     # Significance level\n",
    "\n",
    "# Compute z statistic\n",
    "z_stat = (x_bar - mu_0) / (sigma / np.sqrt(n))\n",
    "print(f\"Z-statistic = {z_stat:.3f}\")\n",
    "\n",
    "# Compute one-tailed p-value (right tail because we test if mean is greater)\n",
    "p_value = 1 - norm.cdf(z_stat)    #cdf is non decreasing value\n",
    "print(f\"P-value = {p_value:.4f}\")\n",
    "\n",
    "# Conclusion\n",
    "if p_value < alpha:\n",
    "    print(\"Reject the null hypothesis: The mean caffeine is greater than 200 mg.\")\n",
    "else:\n",
    "    print(\"Fail to reject the null hypothesis: No significant evidence of higher caffeine content.\")\n"
   ]
  },
  {
   "cell_type": "code",
   "execution_count": 7,
   "id": "028f6107-4a90-4564-bd5b-926281466170",
   "metadata": {},
   "outputs": [
    {
     "name": "stdout",
     "output_type": "stream",
     "text": [
      "t-statistic = 0.096\n",
      "p-value     = 0.9250\n",
      "Fail to reject H0: No significant difference from 75\n"
     ]
    }
   ],
   "source": [
    "# One-sample t-Test Exercise:\n",
    "# You want to check if a new teaching method improves math scores.\n",
    "# Hypothesized mean score = 75.\n",
    "# Test at α = 0.05 using these sample scores:\n",
    "# [78, 72, 77, 74, 70, 80, 73, 76, 79, 74, 75, 73]\n",
    "import numpy as np\n",
    "from scipy import stats\n",
    "\n",
    "# Given data\n",
    "scores = [78, 72, 77, 74, 70, 80, 73, 76, 79, 74, 75, 73]\n",
    "mu_0 = 75\n",
    "alpha = 0.05\n",
    "\n",
    "# Perform one-sample t-Test\n",
    "t_stat, p_value = stats.ttest_1samp(scores, mu_0)\n",
    "\n",
    "print(f\"t-statistic = {t_stat:.3f}\")\n",
    "print(f\"p-value     = {p_value:.4f}\")\n",
    "\n",
    "# Conclusion\n",
    "if p_value < alpha:\n",
    "    print(\"Reject H0: Mean is significantly different from 75\")\n",
    "else:\n",
    "    print(\"Fail to reject H0: No significant difference from 75\")\n",
    "\n"
   ]
  },
  {
   "cell_type": "code",
   "execution_count": 8,
   "id": "bbf7dedc-f534-486a-9807-9cb15746fd0c",
   "metadata": {},
   "outputs": [
    {
     "name": "stdout",
     "output_type": "stream",
     "text": [
      "t-statistic = 3.284\n",
      "p-value     = 0.0082\n",
      "Reject H0: There is a significant difference in mean scores\n"
     ]
    }
   ],
   "source": [
    "# Two-sample t-Test Exercise:\n",
    "# You want to know if male and female students score differently on a test.\n",
    "# Male scores: [85, 88, 90, 84, 82, 87]\n",
    "# Female scores: [78, 80, 83, 85, 77, 79]\n",
    "# Test at α = 0.05 whether there is a significant difference.\n",
    "\n",
    "import numpy as np\n",
    "from scipy import stats\n",
    "\n",
    "# Given data\n",
    "male_scores = [85, 88, 90, 84, 82, 87]\n",
    "female_scores = [78, 80, 83, 85, 77, 79]\n",
    "alpha = 0.05\n",
    "\n",
    "# Perform independent two-sample t-Test\n",
    "t_stat, p_value = stats.ttest_ind(male_scores, female_scores)\n",
    "print(f\"t-statistic = {t_stat:.3f}\")\n",
    "print(f\"p-value     = {p_value:.4f}\")\n",
    "\n",
    "# Conclusion\n",
    "if p_value < alpha:\n",
    "    print(\"Reject H0: There is a significant difference in mean scores\")\n",
    "else:\n",
    "    print(\"Fail to reject H0: No significant difference in mean scores\")\n"
   ]
  },
  {
   "cell_type": "code",
   "execution_count": null,
   "id": "aca306d1-6a8a-40a1-943c-a9c6fe83ed80",
   "metadata": {},
   "outputs": [],
   "source": []
  }
 ],
 "metadata": {
  "kernelspec": {
   "display_name": "Python 3 (ipykernel)",
   "language": "python",
   "name": "python3"
  },
  "language_info": {
   "codemirror_mode": {
    "name": "ipython",
    "version": 3
   },
   "file_extension": ".py",
   "mimetype": "text/x-python",
   "name": "python",
   "nbconvert_exporter": "python",
   "pygments_lexer": "ipython3",
   "version": "3.11.0"
  }
 },
 "nbformat": 4,
 "nbformat_minor": 5
}
