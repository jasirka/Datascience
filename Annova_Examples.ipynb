{
 "cells": [
  {
   "cell_type": "code",
   "execution_count": 1,
   "id": "1eb6b0e2-e5b6-4677-a728-446a2b98208c",
   "metadata": {},
   "outputs": [
    {
     "name": "stdout",
     "output_type": "stream",
     "text": [
      "F-statistic: 23.804\n",
      "P-value: 0.000\n"
     ]
    }
   ],
   "source": [
    " # One-Way ANOVA Example\n",
    "from scipy.stats import f_oneway\n",
    "\n",
    "diet_A = [5, 6, 7, 8, 6]\n",
    "diet_B = [7, 8, 9, 6, 5]\n",
    "diet_C = [10, 12, 11, 13, 12]\n",
    "\n",
    "f_stat, p_value = f_oneway(diet_A, diet_B, diet_C)\n",
    "print(f\"F-statistic: {f_stat:.3f}\")\n",
    "print(f\"P-value: {p_value:.3f}\")\n"
   ]
  },
  {
   "cell_type": "code",
   "execution_count": 2,
   "id": "2e65d9f5-e585-4d54-8970-7f1cc9a5e8e3",
   "metadata": {},
   "outputs": [
    {
     "name": "stdout",
     "output_type": "stream",
     "text": [
      "\n",
      "TWO-WAY ANOVA RESULTS:\n",
      "                              sum_sq   df     F    PR(>F)\n",
      "C(Fertilizer)              10.083333  1.0  12.1  0.008338\n",
      "C(Watering)                52.083333  1.0  62.5  0.000048\n",
      "C(Fertilizer):C(Watering)   0.083333  1.0   0.1  0.759923\n",
      "Residual                    6.666667  8.0   NaN       NaN\n"
     ]
    }
   ],
   "source": [
    "# Two-Way ANOVA\n",
    "import pandas as pd\n",
    "import statsmodels.api as sm\n",
    "from statsmodels.formula.api import ols\n",
    "\n",
    "# Sample dataset\n",
    "data = {\n",
    "    'Fertilizer': ['F1']*6 + ['F2']*6,\n",
    "    'Watering': ['Low']*3 + ['High']*3 + ['Low']*3 + ['High']*3,\n",
    "    'Growth': [10, 12, 11, 15, 14, 16, 9, 8, 10, 13, 14, 13]\n",
    "}\n",
    "\n",
    "df = pd.DataFrame(data)\n",
    "\n",
    "# Fit the two-way ANOVA model with interaction\n",
    "model = ols('Growth ~ C(Fertilizer) + C(Watering) + C(Fertilizer):C(Watering)', data=df).fit()\n",
    "anova_table = sm.stats.anova_lm(model, typ=2)\n",
    "\n",
    "# Display the ANOVA table\n",
    "print(\"\\nTWO-WAY ANOVA RESULTS:\")\n",
    "print(anova_table)\n"
   ]
  },
  {
   "cell_type": "code",
   "execution_count": 3,
   "id": "673cbb50-8733-4c85-8e89-036d8f9db502",
   "metadata": {},
   "outputs": [
    {
     "name": "stdout",
     "output_type": "stream",
     "text": [
      "F-statistic: 80.8333\n",
      "P-value: 0.000002\n",
      "✅ Reject the null hypothesis → At least one group mean is significantly different.\n"
     ]
    }
   ],
   "source": [
    "# Exercise 1: Exam Preparation Methods\n",
    "\n",
    "# Scenario: You want to test whether different exam preparation methods affect student performance.\n",
    "\n",
    "# Groups:\n",
    "\n",
    "#     Group A: Self-study → [70, 72, 68, 71]\n",
    "\n",
    "#     Group B: Group study → [65, 67, 66, 68]\n",
    "\n",
    "#     Group C: Online coaching → [80, 82, 78, 81]\n",
    "\n",
    "# Tasks:\n",
    "\n",
    "#     Perform One-Way ANOVA\n",
    "\n",
    "#     State the null and alternative hypotheses\n",
    "\n",
    "#     Interpret the p-value\n",
    "\n",
    "from scipy.stats import f_oneway\n",
    "\n",
    "# Scores\n",
    "group_A = [70, 72, 68, 71]   # Self-study\n",
    "group_B = [65, 67, 66, 68]   # Group study\n",
    "group_C = [80, 82, 78, 81]   # Online coaching\n",
    "\n",
    "# Perform One-Way ANOVA\n",
    "f_stat, p_value = f_oneway(group_A, group_B, group_C)\n",
    "\n",
    "print(f\"F-statistic: {f_stat:.4f}\")\n",
    "print(f\"P-value: {p_value:.6f}\")\n",
    "\n",
    "# Interpretation\n",
    "alpha = 0.05\n",
    "if p_value < alpha:\n",
    "    print(\"✅ Reject the null hypothesis → At least one group mean is significantly different.\")\n",
    "else:\n",
    "    print(\"❌ Fail to reject the null hypothesis → No significant difference between group means.\")\n"
   ]
  },
  {
   "cell_type": "code",
   "execution_count": 4,
   "id": "0213eee7-89de-4b38-ac32-becde584cb94",
   "metadata": {},
   "outputs": [
    {
     "name": "stdout",
     "output_type": "stream",
     "text": [
      "\n",
      "TWO-WAY ANOVA RESULTS:\n",
      "                           sum_sq   df          F    PR(>F)\n",
      "C(Training)            133.333333  1.0  44.444444  0.000158\n",
      "C(Gender)               48.000000  1.0  16.000000  0.003950\n",
      "C(Training):C(Gender)    1.333333  1.0   0.444444  0.523742\n",
      "Residual                24.000000  8.0        NaN       NaN\n"
     ]
    }
   ],
   "source": [
    "# Training Program & Gender\n",
    "\n",
    "# Scenario: A company tests 2 training programs on employee productivity, considering gender.\n",
    "\n",
    "# Data:\n",
    "# Training\tGender\tProductivity\n",
    "# T1\tM\t80, 82, 85\n",
    "# T1\tF\t78, 76, 79\n",
    "# T2\tM\t88, 90, 87\n",
    "# T2\tF\t85, 84, 86\n",
    "\n",
    "# Tasks:\n",
    "\n",
    "#     Perform Two-Way ANOVA\n",
    "\n",
    "#     Test:\n",
    "\n",
    "#         Effect of Training\n",
    "\n",
    "#         Effect of Gender\n",
    "\n",
    "#         Interaction effect (Training × Gender)\n",
    "\n",
    "import pandas as pd\n",
    "import statsmodels.api as sm\n",
    "from statsmodels.formula.api import ols\n",
    "\n",
    "# Step 1: Create the DataFrame\n",
    "data = {\n",
    "    'Training': ['T1']*6 + ['T2']*6,\n",
    "    'Gender': ['M']*3 + ['F']*3 + ['M']*3 + ['F']*3,\n",
    "    'Productivity': [80, 82, 85, 78, 76, 79, 88, 90, 87, 85, 84, 86]\n",
    "}\n",
    "df = pd.DataFrame(data)\n",
    "\n",
    "# Step 2: Fit the Two-Way ANOVA model (including interaction)\n",
    "model = ols('Productivity ~ C(Training) + C(Gender) + C(Training):C(Gender)', data=df).fit()\n",
    "anova_table = sm.stats.anova_lm(model, typ=2)\n",
    "\n",
    "# Step 3: Display the ANOVA table\n",
    "print(\"\\nTWO-WAY ANOVA RESULTS:\")\n",
    "print(anova_table)\n",
    "\n"
   ]
  },
  {
   "cell_type": "code",
   "execution_count": null,
   "id": "a604f708-4eb4-4028-9852-4c9fa5758aaa",
   "metadata": {},
   "outputs": [],
   "source": []
  }
 ],
 "metadata": {
  "kernelspec": {
   "display_name": "Python 3 (ipykernel)",
   "language": "python",
   "name": "python3"
  },
  "language_info": {
   "codemirror_mode": {
    "name": "ipython",
    "version": 3
   },
   "file_extension": ".py",
   "mimetype": "text/x-python",
   "name": "python",
   "nbconvert_exporter": "python",
   "pygments_lexer": "ipython3",
   "version": "3.13.5"
  }
 },
 "nbformat": 4,
 "nbformat_minor": 5
}
