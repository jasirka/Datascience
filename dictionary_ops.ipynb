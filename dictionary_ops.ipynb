{
 "cells": [
  {
   "cell_type": "code",
   "execution_count": 26,
   "id": "12fbe783-0f1f-4d7d-ba79-1fe9c9e89d20",
   "metadata": {},
   "outputs": [],
   "source": [
    "dict_cars = {\"name\":\"BMW\", \"model\":\"X6\", \"year\":2018}"
   ]
  },
  {
   "cell_type": "code",
   "execution_count": 2,
   "id": "ebfbd4d0-077f-4235-89fb-0eaf7308651a",
   "metadata": {},
   "outputs": [
    {
     "data": {
      "text/plain": [
       "'BMW'"
      ]
     },
     "execution_count": 2,
     "metadata": {},
     "output_type": "execute_result"
    }
   ],
   "source": [
    "dict_cars[\"name\"]"
   ]
  },
  {
   "cell_type": "code",
   "execution_count": 3,
   "id": "2ba33fab-25db-47ff-8fd0-c9a15f2239bf",
   "metadata": {},
   "outputs": [
    {
     "data": {
      "text/plain": [
       "dict_items([('name', 'BMW'), ('model', 'X6'), ('year', '2018')])"
      ]
     },
     "execution_count": 3,
     "metadata": {},
     "output_type": "execute_result"
    }
   ],
   "source": [
    "dict_cars.items()"
   ]
  },
  {
   "cell_type": "code",
   "execution_count": 4,
   "id": "99b699da-e276-4df0-a974-906687614caa",
   "metadata": {},
   "outputs": [
    {
     "data": {
      "text/plain": [
       "dict_keys(['name', 'model', 'year'])"
      ]
     },
     "execution_count": 4,
     "metadata": {},
     "output_type": "execute_result"
    }
   ],
   "source": [
    "dict_cars.keys()"
   ]
  },
  {
   "cell_type": "code",
   "execution_count": 10,
   "id": "88bb1975-6589-4bfe-8501-0a989e02c992",
   "metadata": {},
   "outputs": [
    {
     "data": {
      "text/plain": [
       "dict_values(['BMW', 'X6', 2018])"
      ]
     },
     "execution_count": 10,
     "metadata": {},
     "output_type": "execute_result"
    }
   ],
   "source": [
    "dict_cars.values()"
   ]
  },
  {
   "cell_type": "code",
   "execution_count": 13,
   "id": "f9c188ff-8e94-47b2-af0f-4567a4b5f255",
   "metadata": {},
   "outputs": [],
   "source": [
    "dict_cars[\"year\"]=2020"
   ]
  },
  {
   "cell_type": "code",
   "execution_count": 14,
   "id": "da24c12f-ae9d-4948-b578-c95fb4d62c65",
   "metadata": {},
   "outputs": [
    {
     "data": {
      "text/plain": [
       "{'name': 'BMW', 'model': 'X6', 'year': 2020}"
      ]
     },
     "execution_count": 14,
     "metadata": {},
     "output_type": "execute_result"
    }
   ],
   "source": [
    "dict_cars"
   ]
  },
  {
   "cell_type": "code",
   "execution_count": 15,
   "id": "4ee8bb7e-bea6-4dd0-b2bf-f02371e8a1a8",
   "metadata": {},
   "outputs": [],
   "source": [
    "dict_cars.update({\"color\":\"Red\"})"
   ]
  },
  {
   "cell_type": "code",
   "execution_count": 16,
   "id": "248d9186-dcb6-45ff-9af2-6871df11147c",
   "metadata": {},
   "outputs": [
    {
     "data": {
      "text/plain": [
       "{'name': 'BMW', 'model': 'X6', 'year': 2020, 'color': 'Red'}"
      ]
     },
     "execution_count": 16,
     "metadata": {},
     "output_type": "execute_result"
    }
   ],
   "source": [
    "dict_cars"
   ]
  },
  {
   "cell_type": "code",
   "execution_count": 18,
   "id": "69c3d6d3-07e3-462c-bb7d-9e5bc9d6c183",
   "metadata": {},
   "outputs": [
    {
     "data": {
      "text/plain": [
       "'Red'"
      ]
     },
     "execution_count": 18,
     "metadata": {},
     "output_type": "execute_result"
    }
   ],
   "source": [
    "dict_cars.pop('color')"
   ]
  },
  {
   "cell_type": "code",
   "execution_count": 19,
   "id": "46b14e36-8e8c-4052-a32e-d4e8c4a0c3b5",
   "metadata": {},
   "outputs": [
    {
     "data": {
      "text/plain": [
       "{'name': 'BMW', 'model': 'X6', 'year': 2020}"
      ]
     },
     "execution_count": 19,
     "metadata": {},
     "output_type": "execute_result"
    }
   ],
   "source": [
    "dict_cars"
   ]
  },
  {
   "cell_type": "code",
   "execution_count": 20,
   "id": "53858a21-f723-419e-9d0c-ec4589c95bd4",
   "metadata": {},
   "outputs": [
    {
     "data": {
      "text/plain": [
       "('year', 2020)"
      ]
     },
     "execution_count": 20,
     "metadata": {},
     "output_type": "execute_result"
    }
   ],
   "source": [
    "dict_cars.popitem()"
   ]
  },
  {
   "cell_type": "code",
   "execution_count": 21,
   "id": "4e6fbeef-4cda-4121-9bfc-89a5eac7c605",
   "metadata": {},
   "outputs": [
    {
     "data": {
      "text/plain": [
       "{'name': 'BMW', 'model': 'X6'}"
      ]
     },
     "execution_count": 21,
     "metadata": {},
     "output_type": "execute_result"
    }
   ],
   "source": [
    "dict_cars"
   ]
  },
  {
   "cell_type": "code",
   "execution_count": 22,
   "id": "9b763fc5-1fac-4b5c-8fb4-54b9779112ed",
   "metadata": {},
   "outputs": [],
   "source": [
    "dict_cars.clear()"
   ]
  },
  {
   "cell_type": "code",
   "execution_count": 23,
   "id": "747aee24-64b2-4715-a575-0b406e54d56c",
   "metadata": {},
   "outputs": [
    {
     "data": {
      "text/plain": [
       "{}"
      ]
     },
     "execution_count": 23,
     "metadata": {},
     "output_type": "execute_result"
    }
   ],
   "source": [
    "dict_cars"
   ]
  },
  {
   "cell_type": "code",
   "execution_count": 24,
   "id": "b6144181-36bf-4319-925d-24ecaa8ce147",
   "metadata": {},
   "outputs": [],
   "source": [
    "del dict_cars"
   ]
  },
  {
   "cell_type": "code",
   "execution_count": 27,
   "id": "6161c42e-aa70-407d-ac7a-aa271241c40b",
   "metadata": {},
   "outputs": [
    {
     "data": {
      "text/plain": [
       "{'name': 'BMW', 'model': 'X6', 'year': 2018}"
      ]
     },
     "execution_count": 27,
     "metadata": {},
     "output_type": "execute_result"
    }
   ],
   "source": [
    "dict_cars"
   ]
  },
  {
   "cell_type": "code",
   "execution_count": 28,
   "id": "79d62667-9cfe-499a-beea-7c8a6ded203f",
   "metadata": {},
   "outputs": [
    {
     "name": "stdin",
     "output_type": "stream",
     "text": [
      "Enter keys 2 3 4\n"
     ]
    }
   ],
   "source": [
    "keys = input('Enter keys')"
   ]
  },
  {
   "cell_type": "code",
   "execution_count": 29,
   "id": "45e0048d-e991-46f8-a127-2d5e80f0a7d6",
   "metadata": {},
   "outputs": [
    {
     "name": "stdin",
     "output_type": "stream",
     "text": [
      "Enter values 3 5 7\n"
     ]
    }
   ],
   "source": [
    "values = input('Enter values')"
   ]
  },
  {
   "cell_type": "code",
   "execution_count": 30,
   "id": "3f3a074c-e2a9-4161-9589-6f8946907b12",
   "metadata": {},
   "outputs": [
    {
     "data": {
      "text/plain": [
       "'2 3 4'"
      ]
     },
     "execution_count": 30,
     "metadata": {},
     "output_type": "execute_result"
    }
   ],
   "source": [
    "keys"
   ]
  },
  {
   "cell_type": "code",
   "execution_count": 31,
   "id": "9664dd08-ac22-419c-b3a9-9400fc523ec6",
   "metadata": {},
   "outputs": [],
   "source": [
    "del keys"
   ]
  },
  {
   "cell_type": "code",
   "execution_count": 32,
   "id": "702850a4-b4e0-4cb9-a784-b99fc211f185",
   "metadata": {},
   "outputs": [],
   "source": [
    "del values"
   ]
  },
  {
   "cell_type": "code",
   "execution_count": 39,
   "id": "0d5b8b4b-e7df-47b9-b2eb-a310cf64b1de",
   "metadata": {},
   "outputs": [
    {
     "name": "stdin",
     "output_type": "stream",
     "text": [
      "Enter key values seperated by commas 1,2,3,4,5,6\n"
     ]
    }
   ],
   "source": [
    "keys = input('Enter key values seperated by commas').split(\",\")"
   ]
  },
  {
   "cell_type": "code",
   "execution_count": 40,
   "id": "20afd5be-7a96-42b7-9558-878ac2f7b011",
   "metadata": {},
   "outputs": [
    {
     "data": {
      "text/plain": [
       "['1', '2', '3', '4', '5', '6']"
      ]
     },
     "execution_count": 40,
     "metadata": {},
     "output_type": "execute_result"
    }
   ],
   "source": [
    "keys"
   ]
  },
  {
   "cell_type": "code",
   "execution_count": 34,
   "id": "1e1011ea-fb19-4a45-9ef6-d8577169b9e9",
   "metadata": {},
   "outputs": [
    {
     "data": {
      "text/plain": [
       "'1,2,3,4,5,6'"
      ]
     },
     "execution_count": 34,
     "metadata": {},
     "output_type": "execute_result"
    }
   ],
   "source": [
    "keys"
   ]
  },
  {
   "cell_type": "code",
   "execution_count": 41,
   "id": "b7eca7d1-3eb6-4568-9d35-338d6c322294",
   "metadata": {},
   "outputs": [
    {
     "name": "stdin",
     "output_type": "stream",
     "text": [
      "Enter values seperated by commas apple,banana,orange,kiwi,citrus,plum\n"
     ]
    }
   ],
   "source": [
    "values = input('Enter values seperated by commas').split(\",\")"
   ]
  },
  {
   "cell_type": "code",
   "execution_count": 42,
   "id": "3017e983-4a9a-4144-aede-a68e6f1d1c48",
   "metadata": {},
   "outputs": [
    {
     "data": {
      "text/plain": [
       "['apple', 'banana', 'orange', 'kiwi', 'citrus', 'plum']"
      ]
     },
     "execution_count": 42,
     "metadata": {},
     "output_type": "execute_result"
    }
   ],
   "source": [
    "values"
   ]
  },
  {
   "cell_type": "code",
   "execution_count": null,
   "id": "12de192f-f73a-4744-af71-a028ac1e4f47",
   "metadata": {},
   "outputs": [],
   "source": []
  },
  {
   "cell_type": "code",
   "execution_count": 36,
   "id": "c4210eb0-3f9d-4c65-bd7e-005f9b8abf78",
   "metadata": {},
   "outputs": [
    {
     "data": {
      "text/plain": [
       "'apple,banana,orange,kiwi,citrus,plum'"
      ]
     },
     "execution_count": 36,
     "metadata": {},
     "output_type": "execute_result"
    }
   ],
   "source": [
    "values"
   ]
  },
  {
   "cell_type": "code",
   "execution_count": 44,
   "id": "e20c3575-6957-4605-ba06-e5a36a13a25b",
   "metadata": {},
   "outputs": [
    {
     "name": "stdout",
     "output_type": "stream",
     "text": [
      "0\n",
      "1\n",
      "2\n",
      "3\n",
      "4\n",
      "5\n"
     ]
    }
   ],
   "source": [
    "for i in range(len(keys)):\n",
    "    print(i)"
   ]
  },
  {
   "cell_type": "code",
   "execution_count": 61,
   "id": "9a0d68b6-5bae-4d8c-9be9-80369e92697d",
   "metadata": {},
   "outputs": [],
   "source": [
    "result = {}"
   ]
  },
  {
   "cell_type": "code",
   "execution_count": 73,
   "id": "ec811370-593c-4922-a28a-4e16f8b35d56",
   "metadata": {},
   "outputs": [],
   "source": [
    "for i in range(len(keys)):\n",
    "    result[keys[i].strip()] = values[i].strip()"
   ]
  },
  {
   "cell_type": "code",
   "execution_count": 74,
   "id": "f7474404-dee4-4eaa-a004-799da7fa053f",
   "metadata": {},
   "outputs": [
    {
     "data": {
      "text/plain": [
       "{'1': 'apple',\n",
       " '2': 'banana',\n",
       " '3': 'orange',\n",
       " '4': 'kiwi',\n",
       " '5': 'citrus',\n",
       " '6': 'plum'}"
      ]
     },
     "execution_count": 74,
     "metadata": {},
     "output_type": "execute_result"
    }
   ],
   "source": [
    "result"
   ]
  },
  {
   "cell_type": "code",
   "execution_count": 2,
   "id": "9edf5cd8-1280-4635-a250-2ad954d6fb11",
   "metadata": {},
   "outputs": [],
   "source": [
    "words = [\"apple\", \"banana\", \"kiwi\", \"lemon\", \"mango\"]"
   ]
  },
  {
   "cell_type": "code",
   "execution_count": 12,
   "id": "3f6a4c6b-7fb2-4542-af49-afd3c680547b",
   "metadata": {},
   "outputs": [],
   "source": [
    "same_group={}\n",
    "for word in words:\n",
    "    length=len(word)\n",
    "    if length not in same_group:\n",
    "        same_group[length]=[word]\n",
    "    else:\n",
    "        same_group[length].append(word)"
   ]
  },
  {
   "cell_type": "code",
   "execution_count": null,
   "id": "5398e0a7-5dd7-444f-8069-bbaf19a29bde",
   "metadata": {},
   "outputs": [],
   "source": []
  },
  {
   "cell_type": "code",
   "execution_count": null,
   "id": "fa3f16a6-842d-4dc2-a60b-3530d17b56e3",
   "metadata": {},
   "outputs": [],
   "source": []
  },
  {
   "cell_type": "code",
   "execution_count": null,
   "id": "16248260-0617-47ce-8cca-dbc763ce0f31",
   "metadata": {},
   "outputs": [],
   "source": []
  },
  {
   "cell_type": "code",
   "execution_count": 14,
   "id": "e0bd3e7f-9a7e-41c8-b331-8194190c6a6b",
   "metadata": {},
   "outputs": [
    {
     "name": "stdout",
     "output_type": "stream",
     "text": [
      "5 : ['apple', 'lemon', 'mango']\n",
      "6 : ['banana']\n",
      "4 : ['kiwi']\n"
     ]
    }
   ],
   "source": [
    "for k,v in same_group.items():\n",
    "    print(f\"{k} : {v}\")"
   ]
  },
  {
   "cell_type": "code",
   "execution_count": null,
   "id": "4f6c9129-36c8-4ed6-8430-254f37bd6aac",
   "metadata": {},
   "outputs": [],
   "source": []
  },
  {
   "cell_type": "code",
   "execution_count": null,
   "id": "466fdbdf-4ab1-4b0f-ad2a-3fa59088cf76",
   "metadata": {},
   "outputs": [],
   "source": []
  },
  {
   "cell_type": "code",
   "execution_count": null,
   "id": "6a8d5642-5308-45fc-af2e-7b830adf532c",
   "metadata": {},
   "outputs": [],
   "source": []
  },
  {
   "cell_type": "code",
   "execution_count": null,
   "id": "553a6fab-1210-454a-acef-236b8fc90fa3",
   "metadata": {},
   "outputs": [],
   "source": []
  },
  {
   "cell_type": "code",
   "execution_count": null,
   "id": "2dd1bddc-9627-404a-9e78-f4c56ab2530a",
   "metadata": {},
   "outputs": [],
   "source": []
  },
  {
   "cell_type": "code",
   "execution_count": null,
   "id": "22641292-ffd5-41fa-b9d0-e0e9ac626318",
   "metadata": {},
   "outputs": [],
   "source": []
  },
  {
   "cell_type": "code",
   "execution_count": null,
   "id": "b32b0122-5551-4b0a-b097-a198308e6eef",
   "metadata": {},
   "outputs": [],
   "source": []
  },
  {
   "cell_type": "code",
   "execution_count": null,
   "id": "cf217f15-9ba4-48fb-afba-066ff6d1533a",
   "metadata": {},
   "outputs": [],
   "source": []
  },
  {
   "cell_type": "code",
   "execution_count": null,
   "id": "03bf79ee-1777-47b1-a6a0-fd1b99b20ef1",
   "metadata": {},
   "outputs": [],
   "source": []
  },
  {
   "cell_type": "code",
   "execution_count": null,
   "id": "844a588d-8f20-4d57-b4e9-a152cc4970ce",
   "metadata": {},
   "outputs": [],
   "source": []
  },
  {
   "cell_type": "code",
   "execution_count": null,
   "id": "f2b1f8eb-a943-4ab7-841c-99a5ce840390",
   "metadata": {},
   "outputs": [],
   "source": []
  },
  {
   "cell_type": "code",
   "execution_count": null,
   "id": "06b1720c-bebc-493c-9a27-519fb16a67c3",
   "metadata": {},
   "outputs": [],
   "source": []
  },
  {
   "cell_type": "code",
   "execution_count": null,
   "id": "a6610beb-1ef6-4fc0-8afd-06af2463fa15",
   "metadata": {},
   "outputs": [],
   "source": []
  },
  {
   "cell_type": "code",
   "execution_count": null,
   "id": "de0ccf01-44f6-4f3e-9267-9a9d1a688993",
   "metadata": {},
   "outputs": [],
   "source": []
  },
  {
   "cell_type": "code",
   "execution_count": null,
   "id": "750be678-113f-4229-8f79-3b6659171088",
   "metadata": {},
   "outputs": [],
   "source": []
  },
  {
   "cell_type": "code",
   "execution_count": null,
   "id": "0fc49d8a-06ee-413f-906a-fe8afb7b7a59",
   "metadata": {},
   "outputs": [],
   "source": []
  },
  {
   "cell_type": "code",
   "execution_count": null,
   "id": "46ba78a3-d108-413e-ad88-78d0dabc72eb",
   "metadata": {},
   "outputs": [],
   "source": []
  },
  {
   "cell_type": "code",
   "execution_count": null,
   "id": "f3df163f-f3c1-4799-ba58-19dc2400d300",
   "metadata": {},
   "outputs": [],
   "source": []
  },
  {
   "cell_type": "code",
   "execution_count": null,
   "id": "1a3e348e-8388-48a6-a549-75e73a1accfd",
   "metadata": {},
   "outputs": [],
   "source": []
  },
  {
   "cell_type": "code",
   "execution_count": null,
   "id": "be5afab3-92b2-4911-9b47-baa8b16ce856",
   "metadata": {},
   "outputs": [],
   "source": []
  },
  {
   "cell_type": "code",
   "execution_count": null,
   "id": "2e299ed9-b09e-487b-8402-ae0694a0f015",
   "metadata": {},
   "outputs": [],
   "source": []
  },
  {
   "cell_type": "code",
   "execution_count": 71,
   "id": "e007d85a-2614-433c-a2ef-1682d1e9a8ca",
   "metadata": {},
   "outputs": [
    {
     "data": {
      "text/plain": [
       "{'1': 'apple',\n",
       " '2': 'banana',\n",
       " '3': 'orange',\n",
       " '4': 'kiwi',\n",
       " '5': 'citrus',\n",
       " '6': 'plum'}"
      ]
     },
     "execution_count": 71,
     "metadata": {},
     "output_type": "execute_result"
    }
   ],
   "source": [
    "result"
   ]
  },
  {
   "cell_type": "code",
   "execution_count": null,
   "id": "87494239-eab4-4c3d-b259-2b760b208473",
   "metadata": {},
   "outputs": [],
   "source": []
  },
  {
   "cell_type": "code",
   "execution_count": null,
   "id": "8cc38e97-10e2-40a3-b078-46439ef8ff0f",
   "metadata": {},
   "outputs": [],
   "source": []
  },
  {
   "cell_type": "code",
   "execution_count": null,
   "id": "e4564161-aefc-43fb-bc36-cb6069317e2f",
   "metadata": {},
   "outputs": [],
   "source": []
  },
  {
   "cell_type": "code",
   "execution_count": null,
   "id": "3706d2c9-5cfb-47b6-9efb-08de3f6cffb0",
   "metadata": {},
   "outputs": [],
   "source": []
  },
  {
   "cell_type": "code",
   "execution_count": null,
   "id": "1208d1e0-3664-4258-a601-2aab144e3e53",
   "metadata": {},
   "outputs": [],
   "source": []
  },
  {
   "cell_type": "code",
   "execution_count": null,
   "id": "0390f33d-de91-409c-92b4-cb27ebdce03a",
   "metadata": {},
   "outputs": [],
   "source": []
  },
  {
   "cell_type": "code",
   "execution_count": null,
   "id": "66bdba51-d91e-4423-9230-52367262b522",
   "metadata": {},
   "outputs": [],
   "source": []
  },
  {
   "cell_type": "code",
   "execution_count": null,
   "id": "04de7c65-0d9d-4da9-9eac-1623644dd239",
   "metadata": {},
   "outputs": [],
   "source": []
  },
  {
   "cell_type": "code",
   "execution_count": null,
   "id": "405465ce-4569-4939-99e9-63b8c2ac2685",
   "metadata": {},
   "outputs": [],
   "source": []
  },
  {
   "cell_type": "code",
   "execution_count": null,
   "id": "59c5a035-aff0-4c79-9dab-d9d746a0266b",
   "metadata": {},
   "outputs": [],
   "source": []
  },
  {
   "cell_type": "code",
   "execution_count": null,
   "id": "e16ef50c-d4eb-4ca0-8683-0afe248355f0",
   "metadata": {},
   "outputs": [],
   "source": []
  },
  {
   "cell_type": "code",
   "execution_count": null,
   "id": "7f7a1aa9-fdf0-4072-904c-bba77acb8b78",
   "metadata": {},
   "outputs": [],
   "source": []
  },
  {
   "cell_type": "code",
   "execution_count": null,
   "id": "b035b816-d5b2-433e-8996-94a01c215b92",
   "metadata": {},
   "outputs": [],
   "source": []
  },
  {
   "cell_type": "code",
   "execution_count": null,
   "id": "61d977ca-6df2-4fba-a2e2-3a7bc4e44167",
   "metadata": {},
   "outputs": [],
   "source": []
  },
  {
   "cell_type": "code",
   "execution_count": null,
   "id": "69d752a1-f6bd-4488-b84e-de62ff73f287",
   "metadata": {},
   "outputs": [],
   "source": []
  },
  {
   "cell_type": "code",
   "execution_count": null,
   "id": "8dc3ac09-9355-478f-a07b-f095ec8919bf",
   "metadata": {},
   "outputs": [],
   "source": []
  },
  {
   "cell_type": "code",
   "execution_count": null,
   "id": "c1bccd37-352b-41eb-8f0a-969947e5e8a7",
   "metadata": {},
   "outputs": [],
   "source": []
  },
  {
   "cell_type": "code",
   "execution_count": null,
   "id": "512cf3c6-c52b-40e3-b16d-5c1a2126563b",
   "metadata": {},
   "outputs": [],
   "source": []
  },
  {
   "cell_type": "code",
   "execution_count": null,
   "id": "6152dd69-20f7-4a20-921a-49902ac76d8d",
   "metadata": {},
   "outputs": [],
   "source": []
  }
 ],
 "metadata": {
  "kernelspec": {
   "display_name": "Python 3 (ipykernel)",
   "language": "python",
   "name": "python3"
  },
  "language_info": {
   "codemirror_mode": {
    "name": "ipython",
    "version": 3
   },
   "file_extension": ".py",
   "mimetype": "text/x-python",
   "name": "python",
   "nbconvert_exporter": "python",
   "pygments_lexer": "ipython3",
   "version": "3.13.1"
  }
 },
 "nbformat": 4,
 "nbformat_minor": 5
}
