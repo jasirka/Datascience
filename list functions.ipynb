{
 "cells": [
  {
   "cell_type": "code",
   "execution_count": 36,
   "id": "656fe404-8787-479b-bb87-be6d6735813c",
   "metadata": {},
   "outputs": [],
   "source": [
    "num_list = [6,7,3,8,2,1,7]"
   ]
  },
  {
   "cell_type": "code",
   "execution_count": 4,
   "id": "77f3e3fb-15b1-42ca-bb60-1675ef3ebf70",
   "metadata": {},
   "outputs": [
    {
     "name": "stdout",
     "output_type": "stream",
     "text": [
      "[6, 7, 3, 8, 2, 1]\n"
     ]
    }
   ],
   "source": [
    "print(num_list)"
   ]
  },
  {
   "cell_type": "code",
   "execution_count": 10,
   "id": "c13327a4-5860-4901-b58b-e4a4825b6c42",
   "metadata": {},
   "outputs": [],
   "source": [
    "for i in range(0,len(num_list)):\n",
    "    for j in range(0,len(num_list) - i - 1):\n",
    "        if num_list[j] > num_list[j+1]:\n",
    "            num_list[j], num_list[j+1] = num_list[j+1], num_list[j]     "
   ]
  },
  {
   "cell_type": "code",
   "execution_count": 11,
   "id": "13bf8c8c-aafb-441d-a09d-86b70cc0eac8",
   "metadata": {},
   "outputs": [
    {
     "name": "stdout",
     "output_type": "stream",
     "text": [
      "1\n",
      "2\n",
      "3\n",
      "6\n",
      "7\n",
      "8\n"
     ]
    }
   ],
   "source": [
    "for i in range(0,len(num_list)):\n",
    "    print(num_list[i])"
   ]
  },
  {
   "cell_type": "code",
   "execution_count": 16,
   "id": "4e50fced-032f-4602-9057-0dde75b85d67",
   "metadata": {},
   "outputs": [
    {
     "name": "stdout",
     "output_type": "stream",
     "text": [
      "[7, 6]\n"
     ]
    }
   ],
   "source": [
    "print(num_list[4:2:-1])"
   ]
  },
  {
   "cell_type": "code",
   "execution_count": 19,
   "id": "6106a68d-1923-4f6c-8d6e-b65b9455f91a",
   "metadata": {},
   "outputs": [],
   "source": [
    "fruits = ('apple','banana','cherry')"
   ]
  },
  {
   "cell_type": "code",
   "execution_count": 20,
   "id": "72da946e-bb94-4643-81a8-719bc3abeb07",
   "metadata": {},
   "outputs": [
    {
     "data": {
      "text/plain": [
       "('apple', 'banana', 'cherry')"
      ]
     },
     "execution_count": 20,
     "metadata": {},
     "output_type": "execute_result"
    }
   ],
   "source": [
    "fruits"
   ]
  },
  {
   "cell_type": "code",
   "execution_count": 21,
   "id": "d5c0a012-befa-4454-8820-eb7deef38cd4",
   "metadata": {},
   "outputs": [
    {
     "data": {
      "text/plain": [
       "['apple', 'banana', 'cherry']"
      ]
     },
     "execution_count": 21,
     "metadata": {},
     "output_type": "execute_result"
    }
   ],
   "source": [
    "list(fruits)"
   ]
  },
  {
   "cell_type": "code",
   "execution_count": 24,
   "id": "c858b549-a2a8-41c5-81c6-ce8557dd9d9b",
   "metadata": {},
   "outputs": [
    {
     "data": {
      "text/plain": [
       "('apple', 'banana')"
      ]
     },
     "execution_count": 24,
     "metadata": {},
     "output_type": "execute_result"
    }
   ],
   "source": [
    "fruits[:2]"
   ]
  },
  {
   "cell_type": "code",
   "execution_count": 29,
   "id": "ce55fe19-343b-40e5-94f8-a9c7916e2b21",
   "metadata": {},
   "outputs": [
    {
     "data": {
      "text/plain": [
       "('apple', 'banana', 'cherry')"
      ]
     },
     "execution_count": 29,
     "metadata": {},
     "output_type": "execute_result"
    }
   ],
   "source": [
    "fruits[0:]"
   ]
  },
  {
   "cell_type": "code",
   "execution_count": 38,
   "id": "d537c3e8-5076-4f2f-9dc5-486ba9d2fc5b",
   "metadata": {},
   "outputs": [
    {
     "data": {
      "text/plain": [
       "[]"
      ]
     },
     "execution_count": 38,
     "metadata": {},
     "output_type": "execute_result"
    }
   ],
   "source": [
    "num_list[-1:0]"
   ]
  },
  {
   "cell_type": "code",
   "execution_count": 40,
   "id": "e3d4bd59-333f-46d6-9685-6aec2400cc8a",
   "metadata": {},
   "outputs": [
    {
     "data": {
      "text/plain": [
       "2"
      ]
     },
     "execution_count": 40,
     "metadata": {},
     "output_type": "execute_result"
    }
   ],
   "source": [
    "num_list.count(7)"
   ]
  },
  {
   "cell_type": "code",
   "execution_count": 43,
   "id": "3ba669fb-58c7-4572-8031-e18fa78de315",
   "metadata": {},
   "outputs": [],
   "source": [
    "new_list = [8,3,5]"
   ]
  },
  {
   "cell_type": "code",
   "execution_count": 44,
   "id": "05ea3caf-7542-4072-89fc-8957c66cdad2",
   "metadata": {},
   "outputs": [],
   "source": [
    "num_list.extend(new_list)"
   ]
  },
  {
   "cell_type": "code",
   "execution_count": 45,
   "id": "cf95c5de-3458-4433-abbb-c66439413654",
   "metadata": {},
   "outputs": [
    {
     "data": {
      "text/plain": [
       "[6, 7, 3, 8, 2, 1, 7, 8, 3, 5]"
      ]
     },
     "execution_count": 45,
     "metadata": {},
     "output_type": "execute_result"
    }
   ],
   "source": [
    "num_list"
   ]
  },
  {
   "cell_type": "code",
   "execution_count": 46,
   "id": "c7caf401-d7d7-436a-a90e-4cc78bbe2cf2",
   "metadata": {},
   "outputs": [],
   "source": [
    "num_list.insert(3,9)"
   ]
  },
  {
   "cell_type": "code",
   "execution_count": 47,
   "id": "62efc990-ebde-4b4b-9810-ac03cab79b57",
   "metadata": {},
   "outputs": [
    {
     "data": {
      "text/plain": [
       "[6, 7, 3, 9, 8, 2, 1, 7, 8, 3, 5]"
      ]
     },
     "execution_count": 47,
     "metadata": {},
     "output_type": "execute_result"
    }
   ],
   "source": [
    "num_list"
   ]
  },
  {
   "cell_type": "code",
   "execution_count": 48,
   "id": "c6ea3aaf-5f5d-4f45-a7ef-b801cc54c88a",
   "metadata": {},
   "outputs": [
    {
     "data": {
      "text/plain": [
       "4"
      ]
     },
     "execution_count": 48,
     "metadata": {},
     "output_type": "execute_result"
    }
   ],
   "source": [
    "num_list.index(8)"
   ]
  },
  {
   "cell_type": "code",
   "execution_count": 49,
   "id": "be0f6b91-0d96-4e8a-b9c4-b25e5643e86b",
   "metadata": {},
   "outputs": [
    {
     "data": {
      "text/plain": [
       "7"
      ]
     },
     "execution_count": 49,
     "metadata": {},
     "output_type": "execute_result"
    }
   ],
   "source": [
    "num_list.pop(7)"
   ]
  },
  {
   "cell_type": "code",
   "execution_count": 50,
   "id": "13388353-689d-4563-8630-a61179b2457d",
   "metadata": {},
   "outputs": [
    {
     "data": {
      "text/plain": [
       "[6, 7, 3, 9, 8, 2, 1, 8, 3, 5]"
      ]
     },
     "execution_count": 50,
     "metadata": {},
     "output_type": "execute_result"
    }
   ],
   "source": [
    "num_list"
   ]
  },
  {
   "cell_type": "code",
   "execution_count": 51,
   "id": "4cd3504f-72c3-480f-a673-44b36ce666d1",
   "metadata": {},
   "outputs": [
    {
     "data": {
      "text/plain": [
       "5"
      ]
     },
     "execution_count": 51,
     "metadata": {},
     "output_type": "execute_result"
    }
   ],
   "source": [
    "num_list.pop()"
   ]
  },
  {
   "cell_type": "code",
   "execution_count": 52,
   "id": "6a617cbb-ca58-46d5-82d3-4bb6a03a8037",
   "metadata": {},
   "outputs": [],
   "source": [
    "num_list.remove(2)"
   ]
  },
  {
   "cell_type": "code",
   "execution_count": 53,
   "id": "6c23ba47-a6e2-42b8-abec-3d0aefa9a52a",
   "metadata": {},
   "outputs": [
    {
     "data": {
      "text/plain": [
       "[6, 7, 3, 9, 8, 1, 8, 3]"
      ]
     },
     "execution_count": 53,
     "metadata": {},
     "output_type": "execute_result"
    }
   ],
   "source": [
    "num_list"
   ]
  },
  {
   "cell_type": "code",
   "execution_count": 3,
   "id": "c4a40ba1-7df7-4cd7-b158-2ff901cc0807",
   "metadata": {},
   "outputs": [],
   "source": [
    "num_list.reverse()"
   ]
  },
  {
   "cell_type": "code",
   "execution_count": 4,
   "id": "683ca781-b612-478a-8041-a7be28cbdfef",
   "metadata": {},
   "outputs": [
    {
     "data": {
      "text/plain": [
       "[7, 1, 2, 8, 3, 7, 6]"
      ]
     },
     "execution_count": 4,
     "metadata": {},
     "output_type": "execute_result"
    }
   ],
   "source": [
    "num_list"
   ]
  },
  {
   "cell_type": "code",
   "execution_count": 37,
   "id": "04282c93-54a9-4e80-9042-85d1ec25ae2f",
   "metadata": {},
   "outputs": [],
   "source": [
    "num_list.sort(reverse=True)"
   ]
  },
  {
   "cell_type": "code",
   "execution_count": 38,
   "id": "604082fc-22c8-4830-8264-6b175340a260",
   "metadata": {},
   "outputs": [
    {
     "data": {
      "text/plain": [
       "[8, 7, 7, 6, 3, 2, 1]"
      ]
     },
     "execution_count": 38,
     "metadata": {},
     "output_type": "execute_result"
    }
   ],
   "source": [
    "num_list"
   ]
  },
  {
   "cell_type": "code",
   "execution_count": 8,
   "id": "e6a2567a-cd1f-4067-ad4b-ed882936c4e9",
   "metadata": {},
   "outputs": [
    {
     "data": {
      "text/plain": [
       "[1, 3, 7, 7]"
      ]
     },
     "execution_count": 8,
     "metadata": {},
     "output_type": "execute_result"
    }
   ],
   "source": [
    "[x for x in num_list if x%2!=0 ]"
   ]
  },
  {
   "cell_type": "code",
   "execution_count": 9,
   "id": "5b14ef6b-dc7c-4989-bf29-8df90a3e6b9d",
   "metadata": {},
   "outputs": [],
   "source": [
    "fruits = [\"apple\",\"mango\",\"kiwi\"]"
   ]
  },
  {
   "cell_type": "code",
   "execution_count": 10,
   "id": "9dcb2817-75d5-4717-bca4-84818fcc026c",
   "metadata": {},
   "outputs": [],
   "source": [
    "a_list=[]"
   ]
  },
  {
   "cell_type": "code",
   "execution_count": 12,
   "id": "0340b653-881c-42be-9a71-46613f024e38",
   "metadata": {},
   "outputs": [],
   "source": [
    "for item in fruits:\n",
    "    if \"a\" in item:\n",
    "        a_list.append(item)"
   ]
  },
  {
   "cell_type": "code",
   "execution_count": 13,
   "id": "7b11e103-8e08-4bcc-a969-bdadd88a4664",
   "metadata": {},
   "outputs": [
    {
     "data": {
      "text/plain": [
       "['apple', 'mango']"
      ]
     },
     "execution_count": 13,
     "metadata": {},
     "output_type": "execute_result"
    }
   ],
   "source": [
    "a_list"
   ]
  },
  {
   "cell_type": "code",
   "execution_count": 14,
   "id": "17dc1457-c4c0-41cb-98a6-ccac9a450e96",
   "metadata": {},
   "outputs": [
    {
     "data": {
      "text/plain": [
       "['apple', 'mango']"
      ]
     },
     "execution_count": 14,
     "metadata": {},
     "output_type": "execute_result"
    }
   ],
   "source": [
    "[fruit for fruit in fruits if \"a\" in fruit]"
   ]
  },
  {
   "cell_type": "code",
   "execution_count": 16,
   "id": "9403a15c-d078-4987-bd8c-5c4203ef2203",
   "metadata": {},
   "outputs": [
    {
     "data": {
      "text/plain": [
       "['mango', 'kiwi']"
      ]
     },
     "execution_count": 16,
     "metadata": {},
     "output_type": "execute_result"
    }
   ],
   "source": [
    "[fruit for fruit in fruits if fruit != \"apple\" ]"
   ]
  },
  {
   "cell_type": "code",
   "execution_count": 20,
   "id": "57b05f05-2815-4550-b1d5-83b65d2edc12",
   "metadata": {},
   "outputs": [
    {
     "data": {
      "text/plain": [
       "[7, 14, 21, 28, 35, 42, 49, 56, 63, 70, 77, 84, 91, 98]"
      ]
     },
     "execution_count": 20,
     "metadata": {},
     "output_type": "execute_result"
    }
   ],
   "source": [
    "[num for num in range(1,101) if num %7 ==0]"
   ]
  },
  {
   "cell_type": "code",
   "execution_count": 25,
   "id": "fecc5131-f410-4d0b-bdfb-1bcb1a9392c7",
   "metadata": {},
   "outputs": [
    {
     "data": {
      "text/plain": [
       "[32, 34, 36, 38, 40, 42, 44, 46, 48, 50, 52, 54, 56, 58, 60, 62, 64, 66, 68]"
      ]
     },
     "execution_count": 25,
     "metadata": {},
     "output_type": "execute_result"
    }
   ],
   "source": [
    "[num for num in range(1,101) if num > 30 and num <70 and num%2==0]"
   ]
  },
  {
   "cell_type": "code",
   "execution_count": 27,
   "id": "cf64f471-42b4-4c81-892f-ea5807132600",
   "metadata": {},
   "outputs": [
    {
     "data": {
      "text/plain": [
       "['kiwi']"
      ]
     },
     "execution_count": 27,
     "metadata": {},
     "output_type": "execute_result"
    }
   ],
   "source": [
    "[fruit for fruit in fruits if len(fruit) < 5]"
   ]
  },
  {
   "cell_type": "code",
   "execution_count": 35,
   "id": "f76d4bda-48ae-4644-b617-19a2291a5c96",
   "metadata": {},
   "outputs": [
    {
     "data": {
      "text/plain": [
       "['orange', 'mango', 'kiwi']"
      ]
     },
     "execution_count": 35,
     "metadata": {},
     "output_type": "execute_result"
    }
   ],
   "source": [
    "[x if x != \"apple\" else \"orange\" for x in fruits]"
   ]
  },
  {
   "cell_type": "code",
   "execution_count": 32,
   "id": "d51120e2-6065-4879-890d-7538da404bcd",
   "metadata": {},
   "outputs": [
    {
     "data": {
      "text/plain": [
       "['apple', 'mango', 'kiwi']"
      ]
     },
     "execution_count": 32,
     "metadata": {},
     "output_type": "execute_result"
    }
   ],
   "source": [
    "fruits"
   ]
  },
  {
   "cell_type": "code",
   "execution_count": null,
   "id": "b33d0fb1-030c-4133-8959-8462d553b4f3",
   "metadata": {},
   "outputs": [],
   "source": []
  },
  {
   "cell_type": "code",
   "execution_count": null,
   "id": "335f2a29-fd72-4ed3-9685-d396d78db19d",
   "metadata": {},
   "outputs": [],
   "source": []
  },
  {
   "cell_type": "code",
   "execution_count": null,
   "id": "cc9574da-3a27-464a-91b9-308eb31c2684",
   "metadata": {},
   "outputs": [],
   "source": []
  },
  {
   "cell_type": "code",
   "execution_count": null,
   "id": "ad155343-b101-47d6-8b26-e8e7ceca5d04",
   "metadata": {},
   "outputs": [],
   "source": []
  },
  {
   "cell_type": "code",
   "execution_count": null,
   "id": "c9fad10d-3021-4529-91ce-12360320ce5e",
   "metadata": {},
   "outputs": [],
   "source": []
  },
  {
   "cell_type": "code",
   "execution_count": null,
   "id": "56bb7c20-3f63-482c-8e43-62d884ddd545",
   "metadata": {},
   "outputs": [],
   "source": []
  },
  {
   "cell_type": "code",
   "execution_count": null,
   "id": "634fde97-320a-4731-8685-3a19d98b22a7",
   "metadata": {},
   "outputs": [],
   "source": []
  },
  {
   "cell_type": "code",
   "execution_count": null,
   "id": "c3dd3502-2b40-4926-a33d-877d1da9481f",
   "metadata": {},
   "outputs": [],
   "source": []
  },
  {
   "cell_type": "code",
   "execution_count": null,
   "id": "86a7ceaf-eff5-44b7-bd13-46387b81f833",
   "metadata": {},
   "outputs": [],
   "source": []
  },
  {
   "cell_type": "code",
   "execution_count": null,
   "id": "6eac7576-4612-427b-928d-bf764cdda3c4",
   "metadata": {},
   "outputs": [],
   "source": []
  },
  {
   "cell_type": "code",
   "execution_count": null,
   "id": "de83f52c-c3d8-4bf9-ba00-d424af9a7455",
   "metadata": {},
   "outputs": [],
   "source": []
  },
  {
   "cell_type": "code",
   "execution_count": null,
   "id": "334f4440-3933-4062-8ac9-c845d6127ea4",
   "metadata": {},
   "outputs": [],
   "source": []
  },
  {
   "cell_type": "code",
   "execution_count": null,
   "id": "ae317f5c-09c0-41fe-a679-400fbabe96a7",
   "metadata": {},
   "outputs": [],
   "source": []
  },
  {
   "cell_type": "code",
   "execution_count": null,
   "id": "046567d8-8605-4bfa-888d-c3fa722734dc",
   "metadata": {},
   "outputs": [],
   "source": []
  },
  {
   "cell_type": "code",
   "execution_count": null,
   "id": "8c9a6db2-37c4-4341-9e02-6a58d91b5a44",
   "metadata": {},
   "outputs": [],
   "source": []
  },
  {
   "cell_type": "code",
   "execution_count": null,
   "id": "fb30ae5d-06a2-4dea-8428-85860b1188d6",
   "metadata": {},
   "outputs": [],
   "source": []
  },
  {
   "cell_type": "code",
   "execution_count": null,
   "id": "53329f26-eb08-4bc2-a984-7bab4ca292e5",
   "metadata": {},
   "outputs": [],
   "source": []
  },
  {
   "cell_type": "code",
   "execution_count": null,
   "id": "08469227-4f29-4a25-ac3f-f8beee0147fb",
   "metadata": {},
   "outputs": [],
   "source": []
  },
  {
   "cell_type": "code",
   "execution_count": null,
   "id": "e7c063bd-cbbc-4ff9-8daa-0f9adeb9fdf0",
   "metadata": {},
   "outputs": [],
   "source": []
  },
  {
   "cell_type": "code",
   "execution_count": null,
   "id": "4d0bc25d-1007-40c4-9894-c91fe2da77ad",
   "metadata": {},
   "outputs": [],
   "source": []
  },
  {
   "cell_type": "code",
   "execution_count": null,
   "id": "a6330c65-12e4-4757-af62-73cba98b5380",
   "metadata": {},
   "outputs": [],
   "source": []
  },
  {
   "cell_type": "code",
   "execution_count": null,
   "id": "1368ef44-6e25-4a38-b304-1f776c0529e7",
   "metadata": {},
   "outputs": [],
   "source": []
  },
  {
   "cell_type": "code",
   "execution_count": null,
   "id": "803dfadb-7019-46f5-b2e1-6170a7f2a077",
   "metadata": {},
   "outputs": [],
   "source": []
  },
  {
   "cell_type": "code",
   "execution_count": null,
   "id": "5930cbf6-6185-46aa-9c9b-10d35951753e",
   "metadata": {},
   "outputs": [],
   "source": []
  },
  {
   "cell_type": "code",
   "execution_count": null,
   "id": "377c2b44-99c1-476c-b5c3-06fcde41d393",
   "metadata": {},
   "outputs": [],
   "source": []
  },
  {
   "cell_type": "code",
   "execution_count": null,
   "id": "38ed829d-b82d-4614-9dfb-dadab04a58e6",
   "metadata": {},
   "outputs": [],
   "source": []
  },
  {
   "cell_type": "code",
   "execution_count": null,
   "id": "c2e1b16e-1fcb-4950-9cde-ab713c69341b",
   "metadata": {},
   "outputs": [],
   "source": []
  },
  {
   "cell_type": "code",
   "execution_count": null,
   "id": "f28fb182-8a52-4199-aea8-b08f0c6c228f",
   "metadata": {},
   "outputs": [],
   "source": []
  },
  {
   "cell_type": "code",
   "execution_count": null,
   "id": "166e744a-bb95-43c9-a974-0e3c0d2319cb",
   "metadata": {},
   "outputs": [],
   "source": []
  },
  {
   "cell_type": "code",
   "execution_count": null,
   "id": "38b4b31e-7603-4732-beae-cdf695decb68",
   "metadata": {},
   "outputs": [],
   "source": []
  },
  {
   "cell_type": "code",
   "execution_count": null,
   "id": "1dad2fbd-ebd2-4801-a5e7-aefd930d69b1",
   "metadata": {},
   "outputs": [],
   "source": []
  },
  {
   "cell_type": "code",
   "execution_count": null,
   "id": "563a2938-4099-4305-a33b-90a54abb5b8d",
   "metadata": {},
   "outputs": [],
   "source": []
  },
  {
   "cell_type": "code",
   "execution_count": null,
   "id": "7e3387fa-e668-462d-b147-50886a34ff6b",
   "metadata": {},
   "outputs": [],
   "source": []
  },
  {
   "cell_type": "code",
   "execution_count": null,
   "id": "37c253b0-98dd-4497-87d6-71e51cdbbdec",
   "metadata": {},
   "outputs": [],
   "source": []
  },
  {
   "cell_type": "code",
   "execution_count": null,
   "id": "89ee42db-2bfa-461c-a25b-ce08d0c9b8a5",
   "metadata": {},
   "outputs": [],
   "source": []
  },
  {
   "cell_type": "code",
   "execution_count": null,
   "id": "e1975a70-4fa6-4b4d-b46a-7b44639d529b",
   "metadata": {},
   "outputs": [],
   "source": []
  },
  {
   "cell_type": "code",
   "execution_count": null,
   "id": "8c6c2230-74a7-49c2-b28c-b1d7905fecb0",
   "metadata": {},
   "outputs": [],
   "source": []
  },
  {
   "cell_type": "code",
   "execution_count": null,
   "id": "fd652976-8af5-45c2-9813-622932f13383",
   "metadata": {},
   "outputs": [],
   "source": []
  }
 ],
 "metadata": {
  "kernelspec": {
   "display_name": "Python 3 (ipykernel)",
   "language": "python",
   "name": "python3"
  },
  "language_info": {
   "codemirror_mode": {
    "name": "ipython",
    "version": 3
   },
   "file_extension": ".py",
   "mimetype": "text/x-python",
   "name": "python",
   "nbconvert_exporter": "python",
   "pygments_lexer": "ipython3",
   "version": "3.13.1"
  }
 },
 "nbformat": 4,
 "nbformat_minor": 5
}
