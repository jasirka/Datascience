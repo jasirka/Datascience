{
 "cells": [
  {
   "cell_type": "code",
   "execution_count": 17,
   "id": "39effb83-4568-4fd5-b5bf-ba547bc900e5",
   "metadata": {},
   "outputs": [],
   "source": [
    "num = [5, 2, 9, 1, 4]"
   ]
  },
  {
   "cell_type": "code",
   "execution_count": 18,
   "id": "7d666f01-8326-4330-9660-2f66d5cf9c5d",
   "metadata": {},
   "outputs": [
    {
     "data": {
      "text/plain": [
       "[1, 2, 4, 5, 9]"
      ]
     },
     "execution_count": 18,
     "metadata": {},
     "output_type": "execute_result"
    }
   ],
   "source": [
    "def bubble_sort(num):\n",
    "    n=len(num)\n",
    "    # print(n)\n",
    "    for i in range(n):\n",
    "        for j in range(0, n-i-1):\n",
    "            # print(f\"loop1 {i} : {num[i]}\")\n",
    "            # print(f\"loop2 {j} : {num[j]}\")\n",
    "            if num[j] > num[j+1]:\n",
    "                num[j],num[j+1] = num[j+1],num[j]\n",
    "    return num\n",
    "\n",
    "bubble_sort(num)\n",
    "            \n",
    "        "
   ]
  },
  {
   "cell_type": "code",
   "execution_count": null,
   "id": "0d84b2a8-598d-48fd-a989-66286703fb07",
   "metadata": {},
   "outputs": [],
   "source": []
  },
  {
   "cell_type": "code",
   "execution_count": null,
   "id": "0de398e4-ab41-43cc-b717-4003ac9eefdd",
   "metadata": {},
   "outputs": [],
   "source": []
  },
  {
   "cell_type": "code",
   "execution_count": null,
   "id": "a8a72358-f9c8-48bc-bc32-a8aadae50a39",
   "metadata": {},
   "outputs": [],
   "source": []
  },
  {
   "cell_type": "code",
   "execution_count": null,
   "id": "5ce0941e-2d6f-41c5-9a4b-31d3c13dda82",
   "metadata": {},
   "outputs": [],
   "source": []
  },
  {
   "cell_type": "code",
   "execution_count": null,
   "id": "ff51d775-f2c7-40fe-94e1-10ac92283af8",
   "metadata": {},
   "outputs": [],
   "source": []
  },
  {
   "cell_type": "code",
   "execution_count": null,
   "id": "50eeb007-7f37-494a-b697-b7d2a8f95893",
   "metadata": {},
   "outputs": [],
   "source": []
  },
  {
   "cell_type": "code",
   "execution_count": null,
   "id": "3cef189c-fc20-46ee-996c-51362df3f11b",
   "metadata": {},
   "outputs": [],
   "source": []
  },
  {
   "cell_type": "code",
   "execution_count": null,
   "id": "75ef40e7-2072-4543-a035-793b669dd5bf",
   "metadata": {},
   "outputs": [],
   "source": []
  },
  {
   "cell_type": "code",
   "execution_count": null,
   "id": "42882cd8-3bd9-4067-ac34-127aac00a4c2",
   "metadata": {},
   "outputs": [],
   "source": []
  }
 ],
 "metadata": {
  "kernelspec": {
   "display_name": "Python 3 (ipykernel)",
   "language": "python",
   "name": "python3"
  },
  "language_info": {
   "codemirror_mode": {
    "name": "ipython",
    "version": 3
   },
   "file_extension": ".py",
   "mimetype": "text/x-python",
   "name": "python",
   "nbconvert_exporter": "python",
   "pygments_lexer": "ipython3",
   "version": "3.13.1"
  }
 },
 "nbformat": 4,
 "nbformat_minor": 5
}
