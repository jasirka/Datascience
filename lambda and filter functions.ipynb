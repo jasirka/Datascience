{
 "cells": [
  {
   "cell_type": "code",
   "execution_count": 28,
   "id": "c6201f82-ddd6-4b7a-8b75-f91eb53bf2d4",
   "metadata": {},
   "outputs": [],
   "source": [
    "words = ['polo','roxi','tinax','milen','peter','rotex']"
   ]
  },
  {
   "cell_type": "code",
   "execution_count": 29,
   "id": "02be0e11-ad6b-420a-9ae5-f4f281202012",
   "metadata": {},
   "outputs": [],
   "source": [
    "same_group={}"
   ]
  },
  {
   "cell_type": "code",
   "execution_count": 32,
   "id": "423aaaef-8e21-4a78-bf22-8c1defbfe3d7",
   "metadata": {},
   "outputs": [],
   "source": [
    "for word in words:\n",
    "    length = len(word)\n",
    "    if length not in same_group:\n",
    "        same_group[length] = [word]\n",
    "    else:\n",
    "        same_group[length].append(word)"
   ]
  },
  {
   "cell_type": "code",
   "execution_count": 37,
   "id": "fe57ef2b-0afe-41ad-b285-93c540426d21",
   "metadata": {},
   "outputs": [],
   "source": [
    "calculate_square = lambda n:n**2"
   ]
  },
  {
   "cell_type": "code",
   "execution_count": 39,
   "id": "870b6016-cb4a-4f9d-9035-9bdd07698375",
   "metadata": {},
   "outputs": [
    {
     "data": {
      "text/plain": [
       "25"
      ]
     },
     "execution_count": 39,
     "metadata": {},
     "output_type": "execute_result"
    }
   ],
   "source": [
    "calculate_square(5)"
   ]
  },
  {
   "cell_type": "code",
   "execution_count": 46,
   "id": "44e3c289-09d0-479d-8174-fe200ca1b23c",
   "metadata": {},
   "outputs": [],
   "source": [
    "get_powered = lambda a,b,c: a**(b+c)"
   ]
  },
  {
   "cell_type": "code",
   "execution_count": 76,
   "id": "81f08c6c-9517-4f9a-8a3e-0f833fdce448",
   "metadata": {},
   "outputs": [],
   "source": [
    "num_list = [1,2,3,4]"
   ]
  },
  {
   "cell_type": "code",
   "execution_count": 61,
   "id": "5f96c9cb-ee72-4747-b396-8075512742e4",
   "metadata": {},
   "outputs": [],
   "source": [
    "squared = list(map(lambda x:x**3,num_list))"
   ]
  },
  {
   "cell_type": "code",
   "execution_count": 64,
   "id": "51dc1b8e-822d-4c57-97e1-8bc21d86404d",
   "metadata": {},
   "outputs": [],
   "source": [
    "expression = list(map(lambda x:(x+1) * 2,num_list))"
   ]
  },
  {
   "cell_type": "code",
   "execution_count": 65,
   "id": "7bf7dc23-238b-4a9f-9b96-3eab8af22eb4",
   "metadata": {},
   "outputs": [
    {
     "data": {
      "text/plain": [
       "[4, 6, 8, 10]"
      ]
     },
     "execution_count": 65,
     "metadata": {},
     "output_type": "execute_result"
    }
   ],
   "source": [
    "expression"
   ]
  },
  {
   "cell_type": "code",
   "execution_count": 79,
   "id": "779df666-ac77-4086-8098-164a732fba3f",
   "metadata": {},
   "outputs": [],
   "source": [
    "even_list = list(filter(lambda x:x%2==0, num_list))"
   ]
  },
  {
   "cell_type": "code",
   "execution_count": 80,
   "id": "860e6511-0fd8-41c5-9718-ff3f42e43de6",
   "metadata": {},
   "outputs": [
    {
     "data": {
      "text/plain": [
       "[2, 4]"
      ]
     },
     "execution_count": 80,
     "metadata": {},
     "output_type": "execute_result"
    }
   ],
   "source": [
    "even_list"
   ]
  },
  {
   "cell_type": "code",
   "execution_count": 84,
   "id": "e17a0233-bd56-416c-a433-cea40958d2d5",
   "metadata": {},
   "outputs": [],
   "source": [
    "num_list = [12,23,56,27,78,54,67]"
   ]
  },
  {
   "cell_type": "code",
   "execution_count": 85,
   "id": "d9d9763f-d33b-4e55-a0dc-870dc585575f",
   "metadata": {},
   "outputs": [],
   "source": [
    "from functools import reduce"
   ]
  },
  {
   "cell_type": "code",
   "execution_count": 87,
   "id": "181ff5ea-9a8d-4869-ada3-59cb3f88e0bf",
   "metadata": {},
   "outputs": [],
   "source": [
    "max_num = reduce(lambda x,y: x if x>y else y, num_list)"
   ]
  },
  {
   "cell_type": "code",
   "execution_count": 88,
   "id": "c7b6e22c-75c3-442b-80b3-3ec208b9cf06",
   "metadata": {},
   "outputs": [
    {
     "data": {
      "text/plain": [
       "78"
      ]
     },
     "execution_count": 88,
     "metadata": {},
     "output_type": "execute_result"
    }
   ],
   "source": [
    "max_num"
   ]
  },
  {
   "cell_type": "code",
   "execution_count": 89,
   "id": "c97ea9ab-333c-4530-bc91-ecd4c78ab7ee",
   "metadata": {},
   "outputs": [],
   "source": [
    "min_num = reduce(lambda x,y: x if x<y else y, num_list)"
   ]
  },
  {
   "cell_type": "code",
   "execution_count": 90,
   "id": "af1e39ff-d413-46a2-9dd8-96c32cc18fb9",
   "metadata": {},
   "outputs": [
    {
     "data": {
      "text/plain": [
       "12"
      ]
     },
     "execution_count": 90,
     "metadata": {},
     "output_type": "execute_result"
    }
   ],
   "source": [
    "min_num"
   ]
  },
  {
   "cell_type": "code",
   "execution_count": null,
   "id": "baa893bc-2b58-40d9-a01c-cc3aedf2228d",
   "metadata": {},
   "outputs": [],
   "source": []
  },
  {
   "cell_type": "code",
   "execution_count": null,
   "id": "7d2876df-e460-4622-99eb-9ffcffe5f6b5",
   "metadata": {},
   "outputs": [],
   "source": []
  },
  {
   "cell_type": "code",
   "execution_count": null,
   "id": "b80a5118-451c-4bcc-8af2-5f208ba3bcb7",
   "metadata": {},
   "outputs": [],
   "source": []
  },
  {
   "cell_type": "code",
   "execution_count": null,
   "id": "29ef852d-ab32-47b9-955c-dd9695904ea8",
   "metadata": {},
   "outputs": [],
   "source": []
  },
  {
   "cell_type": "code",
   "execution_count": null,
   "id": "9195102d-c019-4306-b3ce-b53ce685ca48",
   "metadata": {},
   "outputs": [],
   "source": []
  },
  {
   "cell_type": "code",
   "execution_count": null,
   "id": "16838022-f47d-4e25-bb58-71fa02822594",
   "metadata": {},
   "outputs": [],
   "source": []
  },
  {
   "cell_type": "code",
   "execution_count": 71,
   "id": "2d0f0b72-eec3-496e-8e16-d8e13bbc766e",
   "metadata": {},
   "outputs": [],
   "source": [
    "value = list(map(lambda x:x+1,num_list))"
   ]
  },
  {
   "cell_type": "code",
   "execution_count": 72,
   "id": "d13a30f7-aa80-4807-81f5-08e274622a06",
   "metadata": {},
   "outputs": [
    {
     "data": {
      "text/plain": [
       "[2, 3, 4, 5]"
      ]
     },
     "execution_count": 72,
     "metadata": {},
     "output_type": "execute_result"
    }
   ],
   "source": [
    "value"
   ]
  },
  {
   "cell_type": "code",
   "execution_count": null,
   "id": "3f967aec-be54-4527-a5e0-1b81c62bb574",
   "metadata": {},
   "outputs": [],
   "source": []
  },
  {
   "cell_type": "code",
   "execution_count": null,
   "id": "3c384a9f-0804-4317-a7f7-767bfcc81bec",
   "metadata": {},
   "outputs": [],
   "source": []
  },
  {
   "cell_type": "code",
   "execution_count": 69,
   "id": "4626f7e6-00ea-4167-8ee1-2439bdd83020",
   "metadata": {},
   "outputs": [
    {
     "data": {
      "text/plain": [
       "[1, 3]"
      ]
     },
     "execution_count": 69,
     "metadata": {},
     "output_type": "execute_result"
    }
   ],
   "source": [
    "even_list"
   ]
  },
  {
   "cell_type": "code",
   "execution_count": null,
   "id": "79ca16b3-b2b8-485b-9cfc-45b0ae8b4e4e",
   "metadata": {},
   "outputs": [],
   "source": []
  },
  {
   "cell_type": "code",
   "execution_count": null,
   "id": "abcb05fc-0a6f-49e5-8f42-3d2d771b3e6a",
   "metadata": {},
   "outputs": [],
   "source": []
  },
  {
   "cell_type": "code",
   "execution_count": null,
   "id": "3759debf-f2a1-4934-ad9e-32b7ce7d290e",
   "metadata": {},
   "outputs": [],
   "source": []
  },
  {
   "cell_type": "code",
   "execution_count": null,
   "id": "c323c274-c391-4cc2-97ad-3c2f1e750e39",
   "metadata": {},
   "outputs": [],
   "source": []
  },
  {
   "cell_type": "code",
   "execution_count": null,
   "id": "655cacb8-504d-45c4-be7b-91f1a51bf7b5",
   "metadata": {},
   "outputs": [],
   "source": []
  },
  {
   "cell_type": "code",
   "execution_count": 62,
   "id": "caba3d48-4609-4f68-9f6d-305bed9e9ba2",
   "metadata": {},
   "outputs": [
    {
     "data": {
      "text/plain": [
       "[1, 8, 27, 64]"
      ]
     },
     "execution_count": 62,
     "metadata": {},
     "output_type": "execute_result"
    }
   ],
   "source": [
    "squared"
   ]
  },
  {
   "cell_type": "code",
   "execution_count": null,
   "id": "df4209e7-5f02-4924-beb4-89725f8821a8",
   "metadata": {},
   "outputs": [],
   "source": []
  },
  {
   "cell_type": "code",
   "execution_count": null,
   "id": "bebed82b-7b71-41a6-b8a5-794fc5da4e22",
   "metadata": {},
   "outputs": [],
   "source": []
  },
  {
   "cell_type": "code",
   "execution_count": null,
   "id": "7527a1de-ad6a-4e3b-a2d6-8df746969498",
   "metadata": {},
   "outputs": [],
   "source": []
  },
  {
   "cell_type": "code",
   "execution_count": null,
   "id": "0b2347b3-bd33-4907-a930-3feeaa5fc630",
   "metadata": {},
   "outputs": [],
   "source": []
  },
  {
   "cell_type": "code",
   "execution_count": null,
   "id": "3ef7f049-79c0-4633-8c1a-449a31853795",
   "metadata": {},
   "outputs": [],
   "source": []
  },
  {
   "cell_type": "code",
   "execution_count": null,
   "id": "da69dd54-67c1-4294-81e8-10cd88bec043",
   "metadata": {},
   "outputs": [],
   "source": []
  },
  {
   "cell_type": "code",
   "execution_count": null,
   "id": "68a117bf-15dd-495a-aef8-45938031501d",
   "metadata": {},
   "outputs": [],
   "source": []
  },
  {
   "cell_type": "code",
   "execution_count": null,
   "id": "4c358349-bbdf-47b2-b7a1-a5fc2769dbaf",
   "metadata": {},
   "outputs": [],
   "source": []
  },
  {
   "cell_type": "code",
   "execution_count": null,
   "id": "b0cd280a-df81-4b10-a4ce-5c5fab0c2639",
   "metadata": {},
   "outputs": [],
   "source": []
  },
  {
   "cell_type": "code",
   "execution_count": null,
   "id": "7e12ac4e-b968-4208-833c-17dfc1f8dc2f",
   "metadata": {},
   "outputs": [],
   "source": []
  },
  {
   "cell_type": "code",
   "execution_count": null,
   "id": "f1f76e48-f181-475b-a2b4-89fe001ab4d2",
   "metadata": {},
   "outputs": [],
   "source": []
  },
  {
   "cell_type": "code",
   "execution_count": null,
   "id": "3c5d223a-7acb-4658-98e7-f09fbbad59d3",
   "metadata": {},
   "outputs": [],
   "source": []
  },
  {
   "cell_type": "code",
   "execution_count": null,
   "id": "c1d3b846-8384-4ed3-ac88-7654bcf94b8f",
   "metadata": {},
   "outputs": [],
   "source": []
  },
  {
   "cell_type": "code",
   "execution_count": null,
   "id": "302a2d9a-3fd6-4a58-bdc9-5ec1cd9d0a74",
   "metadata": {},
   "outputs": [],
   "source": []
  },
  {
   "cell_type": "code",
   "execution_count": null,
   "id": "241d4289-e4b9-442a-b4d4-d545503d8f45",
   "metadata": {},
   "outputs": [],
   "source": []
  },
  {
   "cell_type": "code",
   "execution_count": null,
   "id": "16ea2294-8681-40ed-9415-55fda8103d1e",
   "metadata": {},
   "outputs": [],
   "source": []
  },
  {
   "cell_type": "code",
   "execution_count": null,
   "id": "6dda2540-695c-4fbe-813c-345d97332cb4",
   "metadata": {},
   "outputs": [],
   "source": []
  },
  {
   "cell_type": "code",
   "execution_count": null,
   "id": "86c7d2e7-3f2a-475b-8da8-e5b547463559",
   "metadata": {},
   "outputs": [],
   "source": []
  },
  {
   "cell_type": "code",
   "execution_count": null,
   "id": "7d73e834-593b-4615-a485-873b7ef33dc4",
   "metadata": {},
   "outputs": [],
   "source": []
  },
  {
   "cell_type": "code",
   "execution_count": null,
   "id": "7575377b-26e6-44d6-a2d9-fbfb50af2feb",
   "metadata": {},
   "outputs": [],
   "source": []
  },
  {
   "cell_type": "code",
   "execution_count": null,
   "id": "3d1d5149-ff6d-4e52-a5a0-ff1b794d09e5",
   "metadata": {},
   "outputs": [],
   "source": []
  },
  {
   "cell_type": "code",
   "execution_count": null,
   "id": "cd7f205b-df15-40af-a6d0-5661f64864e5",
   "metadata": {},
   "outputs": [],
   "source": []
  },
  {
   "cell_type": "code",
   "execution_count": null,
   "id": "c64244ac-faad-4eb5-94bd-9dfe07e6ae97",
   "metadata": {},
   "outputs": [],
   "source": []
  },
  {
   "cell_type": "code",
   "execution_count": null,
   "id": "6d3eba94-56b6-45bf-abb3-892c5fa3aa10",
   "metadata": {},
   "outputs": [],
   "source": []
  },
  {
   "cell_type": "code",
   "execution_count": null,
   "id": "83e5feda-7728-4bf5-9932-74efbbd07a0d",
   "metadata": {},
   "outputs": [],
   "source": []
  },
  {
   "cell_type": "code",
   "execution_count": null,
   "id": "9bc2f914-9c89-4115-bbcd-968eecb63936",
   "metadata": {},
   "outputs": [],
   "source": []
  },
  {
   "cell_type": "code",
   "execution_count": null,
   "id": "65d094e7-ab31-4518-ac22-f8d6ffa237df",
   "metadata": {},
   "outputs": [],
   "source": []
  },
  {
   "cell_type": "code",
   "execution_count": null,
   "id": "d12a94d4-9016-48f5-985a-5618a95042e2",
   "metadata": {},
   "outputs": [],
   "source": []
  },
  {
   "cell_type": "code",
   "execution_count": null,
   "id": "d525ce2e-843e-4ebd-950b-57309d18c3a2",
   "metadata": {},
   "outputs": [],
   "source": []
  },
  {
   "cell_type": "code",
   "execution_count": null,
   "id": "040efa4c-0b41-48dd-83c4-70add94fe465",
   "metadata": {},
   "outputs": [],
   "source": []
  },
  {
   "cell_type": "code",
   "execution_count": null,
   "id": "24e8fcfa-d740-403d-acb7-558ab5df4d90",
   "metadata": {},
   "outputs": [],
   "source": []
  },
  {
   "cell_type": "code",
   "execution_count": null,
   "id": "5dad5d10-14de-4847-8ed2-7872efd4f41d",
   "metadata": {},
   "outputs": [],
   "source": []
  },
  {
   "cell_type": "code",
   "execution_count": null,
   "id": "dc263005-7bd3-442d-b409-f1f4ff869bbd",
   "metadata": {},
   "outputs": [],
   "source": []
  },
  {
   "cell_type": "code",
   "execution_count": null,
   "id": "580735fd-489f-4686-aaa3-cbd73b931356",
   "metadata": {},
   "outputs": [],
   "source": []
  },
  {
   "cell_type": "code",
   "execution_count": null,
   "id": "47418433-2777-4bef-a65a-70f96369049f",
   "metadata": {},
   "outputs": [],
   "source": []
  },
  {
   "cell_type": "code",
   "execution_count": null,
   "id": "617a3b60-2d73-43f2-9dcf-681beccd7016",
   "metadata": {},
   "outputs": [],
   "source": []
  },
  {
   "cell_type": "code",
   "execution_count": null,
   "id": "7d19b5bc-1c51-44f6-b7e1-dd4028a44049",
   "metadata": {},
   "outputs": [],
   "source": []
  },
  {
   "cell_type": "code",
   "execution_count": null,
   "id": "574050de-d3f7-45ef-a90a-c184462666d0",
   "metadata": {},
   "outputs": [],
   "source": []
  },
  {
   "cell_type": "code",
   "execution_count": null,
   "id": "75d5b54a-469d-478d-9b15-b0076f9b9215",
   "metadata": {},
   "outputs": [],
   "source": []
  },
  {
   "cell_type": "code",
   "execution_count": null,
   "id": "9515f403-f2f7-4673-83d6-a9ac05bfa04a",
   "metadata": {},
   "outputs": [],
   "source": []
  }
 ],
 "metadata": {
  "kernelspec": {
   "display_name": "Python 3 (ipykernel)",
   "language": "python",
   "name": "python3"
  },
  "language_info": {
   "codemirror_mode": {
    "name": "ipython",
    "version": 3
   },
   "file_extension": ".py",
   "mimetype": "text/x-python",
   "name": "python",
   "nbconvert_exporter": "python",
   "pygments_lexer": "ipython3",
   "version": "3.13.1"
  }
 },
 "nbformat": 4,
 "nbformat_minor": 5
}
