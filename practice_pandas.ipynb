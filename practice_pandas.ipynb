{
 "cells": [
  {
   "cell_type": "code",
   "execution_count": 2,
   "id": "65859a12-d8b1-465f-8053-56e5965d7383",
   "metadata": {},
   "outputs": [],
   "source": [
    "import pandas as pd"
   ]
  },
  {
   "cell_type": "code",
   "execution_count": 2,
   "id": "2ed20be9-9d97-4303-93a1-096f1f1814de",
   "metadata": {},
   "outputs": [],
   "source": [
    "df = pd.DataFrame({'Salary': [10000,20000,50000]})"
   ]
  },
  {
   "cell_type": "code",
   "execution_count": 3,
   "id": "1ce482b6-2ed5-4007-9e55-4f4e761da27e",
   "metadata": {},
   "outputs": [],
   "source": [
    "def add_bonus(df):\n",
    "    df['Salary'] = df['Salary'] + 1000\n",
    "    return df"
   ]
  },
  {
   "cell_type": "code",
   "execution_count": 4,
   "id": "e2be656e-da9e-4e87-9555-dcd9070e4d39",
   "metadata": {},
   "outputs": [
    {
     "data": {
      "text/html": [
       "<div>\n",
       "<style scoped>\n",
       "    .dataframe tbody tr th:only-of-type {\n",
       "        vertical-align: middle;\n",
       "    }\n",
       "\n",
       "    .dataframe tbody tr th {\n",
       "        vertical-align: top;\n",
       "    }\n",
       "\n",
       "    .dataframe thead th {\n",
       "        text-align: right;\n",
       "    }\n",
       "</style>\n",
       "<table border=\"1\" class=\"dataframe\">\n",
       "  <thead>\n",
       "    <tr style=\"text-align: right;\">\n",
       "      <th></th>\n",
       "      <th>Salary</th>\n",
       "    </tr>\n",
       "  </thead>\n",
       "  <tbody>\n",
       "    <tr>\n",
       "      <th>0</th>\n",
       "      <td>11000</td>\n",
       "    </tr>\n",
       "    <tr>\n",
       "      <th>1</th>\n",
       "      <td>21000</td>\n",
       "    </tr>\n",
       "    <tr>\n",
       "      <th>2</th>\n",
       "      <td>51000</td>\n",
       "    </tr>\n",
       "  </tbody>\n",
       "</table>\n",
       "</div>"
      ],
      "text/plain": [
       "   Salary\n",
       "0   11000\n",
       "1   21000\n",
       "2   51000"
      ]
     },
     "execution_count": 4,
     "metadata": {},
     "output_type": "execute_result"
    }
   ],
   "source": [
    "df.pipe(add_bonus)"
   ]
  },
  {
   "cell_type": "code",
   "execution_count": 11,
   "id": "cbe0187d-b662-46aa-a28d-49e7828e7888",
   "metadata": {},
   "outputs": [],
   "source": [
    "df1 = pd.DataFrame({'Basic':[10000,15000,25000]})"
   ]
  },
  {
   "cell_type": "code",
   "execution_count": 8,
   "id": "c64ef89b-6178-4784-af85-5c04a9257007",
   "metadata": {},
   "outputs": [],
   "source": [
    "def add_increment(df1):\n",
    "    df1['Basic'] = df1['Basic'] + 5000\n",
    "    return df1"
   ]
  },
  {
   "cell_type": "code",
   "execution_count": 12,
   "id": "d0e08546-19c2-4ff5-a7fc-b8e5216d2a2b",
   "metadata": {},
   "outputs": [
    {
     "data": {
      "text/html": [
       "<div>\n",
       "<style scoped>\n",
       "    .dataframe tbody tr th:only-of-type {\n",
       "        vertical-align: middle;\n",
       "    }\n",
       "\n",
       "    .dataframe tbody tr th {\n",
       "        vertical-align: top;\n",
       "    }\n",
       "\n",
       "    .dataframe thead th {\n",
       "        text-align: right;\n",
       "    }\n",
       "</style>\n",
       "<table border=\"1\" class=\"dataframe\">\n",
       "  <thead>\n",
       "    <tr style=\"text-align: right;\">\n",
       "      <th></th>\n",
       "      <th>Basic</th>\n",
       "    </tr>\n",
       "  </thead>\n",
       "  <tbody>\n",
       "    <tr>\n",
       "      <th>0</th>\n",
       "      <td>15000</td>\n",
       "    </tr>\n",
       "    <tr>\n",
       "      <th>1</th>\n",
       "      <td>20000</td>\n",
       "    </tr>\n",
       "    <tr>\n",
       "      <th>2</th>\n",
       "      <td>30000</td>\n",
       "    </tr>\n",
       "  </tbody>\n",
       "</table>\n",
       "</div>"
      ],
      "text/plain": [
       "   Basic\n",
       "0  15000\n",
       "1  20000\n",
       "2  30000"
      ]
     },
     "execution_count": 12,
     "metadata": {},
     "output_type": "execute_result"
    }
   ],
   "source": [
    "df1.pipe(lambda x:x+5000)"
   ]
  },
  {
   "cell_type": "code",
   "execution_count": 22,
   "id": "980eed18-b2d0-4aea-9d42-ade92466fada",
   "metadata": {},
   "outputs": [],
   "source": [
    "data_set = {\n",
    "    'sample_set1':[3,4,5,6],\n",
    "    'sample_set2':[5,3,7,2]\n",
    "}"
   ]
  },
  {
   "cell_type": "code",
   "execution_count": 23,
   "id": "f8bd1917-4b93-4da8-93a0-853c6b6d7cac",
   "metadata": {},
   "outputs": [],
   "source": [
    "df_sample = pd.DataFrame(data_set)"
   ]
  },
  {
   "cell_type": "code",
   "execution_count": 26,
   "id": "ebc1158f-5bd2-42db-b343-394b57ae9799",
   "metadata": {},
   "outputs": [
    {
     "name": "stdout",
     "output_type": "stream",
     "text": [
      "0     8\n",
      "1     7\n",
      "2    12\n",
      "3     8\n",
      "dtype: int64\n"
     ]
    }
   ],
   "source": [
    "print(df_sample.apply(sum, axis=1))"
   ]
  },
  {
   "cell_type": "code",
   "execution_count": 30,
   "id": "42dc1e34-5a1f-4f37-a662-259fac60fa1b",
   "metadata": {},
   "outputs": [
    {
     "name": "stdout",
     "output_type": "stream",
     "text": [
      "   sample_set1  sample_set2\n",
      "0            4            6\n",
      "1            5            4\n",
      "2            6            8\n",
      "3            7            3\n"
     ]
    }
   ],
   "source": [
    "print(df_sample.map(lambda x:x+1))"
   ]
  },
  {
   "cell_type": "code",
   "execution_count": 3,
   "id": "380df751-8029-4e28-80d6-8dc3175e9882",
   "metadata": {},
   "outputs": [],
   "source": [
    "hr_data = pd.read_csv(\"WA_Fn-UseC_-HR-Employee-Attrition.xls\")"
   ]
  },
  {
   "cell_type": "code",
   "execution_count": 30,
   "id": "eba8f814-7b1a-4cd7-b52b-2ff3f32cd557",
   "metadata": {},
   "outputs": [
    {
     "data": {
      "text/html": [
       "<div>\n",
       "<style scoped>\n",
       "    .dataframe tbody tr th:only-of-type {\n",
       "        vertical-align: middle;\n",
       "    }\n",
       "\n",
       "    .dataframe tbody tr th {\n",
       "        vertical-align: top;\n",
       "    }\n",
       "\n",
       "    .dataframe thead th {\n",
       "        text-align: right;\n",
       "    }\n",
       "</style>\n",
       "<table border=\"1\" class=\"dataframe\">\n",
       "  <thead>\n",
       "    <tr style=\"text-align: right;\">\n",
       "      <th></th>\n",
       "      <th>Age</th>\n",
       "      <th>Attrition</th>\n",
       "      <th>BusinessTravel</th>\n",
       "      <th>DailyRate</th>\n",
       "      <th>Department</th>\n",
       "      <th>DistanceFromHome</th>\n",
       "      <th>Education</th>\n",
       "      <th>EducationField</th>\n",
       "      <th>EmployeeCount</th>\n",
       "      <th>EmployeeNumber</th>\n",
       "      <th>...</th>\n",
       "      <th>RelationshipSatisfaction</th>\n",
       "      <th>StandardHours</th>\n",
       "      <th>StockOptionLevel</th>\n",
       "      <th>TotalWorkingYears</th>\n",
       "      <th>TrainingTimesLastYear</th>\n",
       "      <th>WorkLifeBalance</th>\n",
       "      <th>YearsAtCompany</th>\n",
       "      <th>YearsInCurrentRole</th>\n",
       "      <th>YearsSinceLastPromotion</th>\n",
       "      <th>YearsWithCurrManager</th>\n",
       "    </tr>\n",
       "  </thead>\n",
       "  <tbody>\n",
       "    <tr>\n",
       "      <th>0</th>\n",
       "      <td>41</td>\n",
       "      <td>Yes</td>\n",
       "      <td>Travel_Rarely</td>\n",
       "      <td>1102</td>\n",
       "      <td>Sales</td>\n",
       "      <td>1</td>\n",
       "      <td>2</td>\n",
       "      <td>Life Sciences</td>\n",
       "      <td>1</td>\n",
       "      <td>1</td>\n",
       "      <td>...</td>\n",
       "      <td>1</td>\n",
       "      <td>80</td>\n",
       "      <td>0</td>\n",
       "      <td>8</td>\n",
       "      <td>0</td>\n",
       "      <td>1</td>\n",
       "      <td>6</td>\n",
       "      <td>4</td>\n",
       "      <td>0</td>\n",
       "      <td>5</td>\n",
       "    </tr>\n",
       "    <tr>\n",
       "      <th>1</th>\n",
       "      <td>49</td>\n",
       "      <td>No</td>\n",
       "      <td>Travel_Frequently</td>\n",
       "      <td>279</td>\n",
       "      <td>Research &amp; Development</td>\n",
       "      <td>8</td>\n",
       "      <td>1</td>\n",
       "      <td>Life Sciences</td>\n",
       "      <td>1</td>\n",
       "      <td>2</td>\n",
       "      <td>...</td>\n",
       "      <td>4</td>\n",
       "      <td>80</td>\n",
       "      <td>1</td>\n",
       "      <td>10</td>\n",
       "      <td>3</td>\n",
       "      <td>3</td>\n",
       "      <td>10</td>\n",
       "      <td>7</td>\n",
       "      <td>1</td>\n",
       "      <td>7</td>\n",
       "    </tr>\n",
       "    <tr>\n",
       "      <th>2</th>\n",
       "      <td>37</td>\n",
       "      <td>Yes</td>\n",
       "      <td>Travel_Rarely</td>\n",
       "      <td>1373</td>\n",
       "      <td>Research &amp; Development</td>\n",
       "      <td>2</td>\n",
       "      <td>2</td>\n",
       "      <td>Other</td>\n",
       "      <td>1</td>\n",
       "      <td>4</td>\n",
       "      <td>...</td>\n",
       "      <td>2</td>\n",
       "      <td>80</td>\n",
       "      <td>0</td>\n",
       "      <td>7</td>\n",
       "      <td>3</td>\n",
       "      <td>3</td>\n",
       "      <td>0</td>\n",
       "      <td>0</td>\n",
       "      <td>0</td>\n",
       "      <td>0</td>\n",
       "    </tr>\n",
       "    <tr>\n",
       "      <th>3</th>\n",
       "      <td>33</td>\n",
       "      <td>No</td>\n",
       "      <td>Travel_Frequently</td>\n",
       "      <td>1392</td>\n",
       "      <td>Research &amp; Development</td>\n",
       "      <td>3</td>\n",
       "      <td>4</td>\n",
       "      <td>Life Sciences</td>\n",
       "      <td>1</td>\n",
       "      <td>5</td>\n",
       "      <td>...</td>\n",
       "      <td>3</td>\n",
       "      <td>80</td>\n",
       "      <td>0</td>\n",
       "      <td>8</td>\n",
       "      <td>3</td>\n",
       "      <td>3</td>\n",
       "      <td>8</td>\n",
       "      <td>7</td>\n",
       "      <td>3</td>\n",
       "      <td>0</td>\n",
       "    </tr>\n",
       "    <tr>\n",
       "      <th>4</th>\n",
       "      <td>27</td>\n",
       "      <td>No</td>\n",
       "      <td>Travel_Rarely</td>\n",
       "      <td>591</td>\n",
       "      <td>Research &amp; Development</td>\n",
       "      <td>2</td>\n",
       "      <td>1</td>\n",
       "      <td>Medical</td>\n",
       "      <td>1</td>\n",
       "      <td>7</td>\n",
       "      <td>...</td>\n",
       "      <td>4</td>\n",
       "      <td>80</td>\n",
       "      <td>1</td>\n",
       "      <td>6</td>\n",
       "      <td>3</td>\n",
       "      <td>3</td>\n",
       "      <td>2</td>\n",
       "      <td>2</td>\n",
       "      <td>2</td>\n",
       "      <td>2</td>\n",
       "    </tr>\n",
       "  </tbody>\n",
       "</table>\n",
       "<p>5 rows × 35 columns</p>\n",
       "</div>"
      ],
      "text/plain": [
       "   Age Attrition     BusinessTravel  DailyRate              Department  \\\n",
       "0   41       Yes      Travel_Rarely       1102                   Sales   \n",
       "1   49        No  Travel_Frequently        279  Research & Development   \n",
       "2   37       Yes      Travel_Rarely       1373  Research & Development   \n",
       "3   33        No  Travel_Frequently       1392  Research & Development   \n",
       "4   27        No      Travel_Rarely        591  Research & Development   \n",
       "\n",
       "   DistanceFromHome  Education EducationField  EmployeeCount  EmployeeNumber  \\\n",
       "0                 1          2  Life Sciences              1               1   \n",
       "1                 8          1  Life Sciences              1               2   \n",
       "2                 2          2          Other              1               4   \n",
       "3                 3          4  Life Sciences              1               5   \n",
       "4                 2          1        Medical              1               7   \n",
       "\n",
       "   ...  RelationshipSatisfaction StandardHours  StockOptionLevel  \\\n",
       "0  ...                         1            80                 0   \n",
       "1  ...                         4            80                 1   \n",
       "2  ...                         2            80                 0   \n",
       "3  ...                         3            80                 0   \n",
       "4  ...                         4            80                 1   \n",
       "\n",
       "   TotalWorkingYears  TrainingTimesLastYear WorkLifeBalance  YearsAtCompany  \\\n",
       "0                  8                      0               1               6   \n",
       "1                 10                      3               3              10   \n",
       "2                  7                      3               3               0   \n",
       "3                  8                      3               3               8   \n",
       "4                  6                      3               3               2   \n",
       "\n",
       "  YearsInCurrentRole  YearsSinceLastPromotion  YearsWithCurrManager  \n",
       "0                  4                        0                     5  \n",
       "1                  7                        1                     7  \n",
       "2                  0                        0                     0  \n",
       "3                  7                        3                     0  \n",
       "4                  2                        2                     2  \n",
       "\n",
       "[5 rows x 35 columns]"
      ]
     },
     "execution_count": 30,
     "metadata": {},
     "output_type": "execute_result"
    }
   ],
   "source": [
    "hr_data.head()"
   ]
  },
  {
   "cell_type": "code",
   "execution_count": 33,
   "id": "08e57004-67a6-437f-ac7c-fa315d0d0b9b",
   "metadata": {},
   "outputs": [
    {
     "data": {
      "text/plain": [
       "Index(['Age', 'Attrition', 'BusinessTravel', 'DailyRate', 'Department',\n",
       "       'DistanceFromHome', 'Education', 'EducationField', 'EmployeeCount',\n",
       "       'EmployeeNumber', 'EnvironmentSatisfaction', 'Gender', 'HourlyRate',\n",
       "       'JobInvolvement', 'JobLevel', 'JobRole', 'JobSatisfaction',\n",
       "       'MaritalStatus', 'MonthlyIncome', 'MonthlyRate', 'NumCompaniesWorked',\n",
       "       'Over18', 'OverTime', 'PercentSalaryHike', 'PerformanceRating',\n",
       "       'RelationshipSatisfaction', 'StandardHours', 'StockOptionLevel',\n",
       "       'TotalWorkingYears', 'TrainingTimesLastYear', 'WorkLifeBalance',\n",
       "       'YearsAtCompany', 'YearsInCurrentRole', 'YearsSinceLastPromotion',\n",
       "       'YearsWithCurrManager'],\n",
       "      dtype='object')"
      ]
     },
     "execution_count": 33,
     "metadata": {},
     "output_type": "execute_result"
    }
   ],
   "source": [
    "# Increase Monthly Income by 10%\n",
    "hr_data.columns"
   ]
  },
  {
   "cell_type": "code",
   "execution_count": 34,
   "id": "f7383e21-3ce2-4aea-8238-d69547eb4280",
   "metadata": {},
   "outputs": [
    {
     "data": {
      "text/plain": [
       "0       5993\n",
       "1       5130\n",
       "2       2090\n",
       "3       2909\n",
       "4       3468\n",
       "        ... \n",
       "1465    2571\n",
       "1466    9991\n",
       "1467    6142\n",
       "1468    5390\n",
       "1469    4404\n",
       "Name: MonthlyIncome, Length: 1470, dtype: int64"
      ]
     },
     "execution_count": 34,
     "metadata": {},
     "output_type": "execute_result"
    }
   ],
   "source": [
    "hr_data['MonthlyIncome']"
   ]
  },
  {
   "cell_type": "code",
   "execution_count": 7,
   "id": "d759582a-b85e-4979-9679-198ca6c60ce8",
   "metadata": {},
   "outputs": [],
   "source": [
    "def increase_monthly_income(hr_data):\n",
    "    hr_data['MonthlyIncome'] = hr_data['MonthlyIncome'] * 0.1\n",
    "    return hr_data"
   ]
  },
  {
   "cell_type": "code",
   "execution_count": 52,
   "id": "94efb1c7-786f-4465-95df-adeb36b7fb36",
   "metadata": {},
   "outputs": [],
   "source": [
    "hr_data = (hr_data.pipe(Increase_monthly_income))"
   ]
  },
  {
   "cell_type": "code",
   "execution_count": 54,
   "id": "67ac8bd7-a346-4f33-904d-b60c9ac2b361",
   "metadata": {},
   "outputs": [
    {
     "data": {
      "text/plain": [
       "0       599.3\n",
       "1       513.0\n",
       "2       209.0\n",
       "3       290.9\n",
       "4       346.8\n",
       "        ...  \n",
       "1465    257.1\n",
       "1466    999.1\n",
       "1467    614.2\n",
       "1468    539.0\n",
       "1469    440.4\n",
       "Name: MonthlyIncome, Length: 1470, dtype: float64"
      ]
     },
     "execution_count": 54,
     "metadata": {},
     "output_type": "execute_result"
    }
   ],
   "source": [
    "hr_data['MonthlyIncome']"
   ]
  },
  {
   "cell_type": "code",
   "execution_count": 5,
   "id": "28bfdd67-598a-4c8d-9e47-45f684eee7fb",
   "metadata": {},
   "outputs": [],
   "source": [
    "def check_senior(hr_data):\n",
    "    hr_data['IsSenior'] = hr_data[\"Age\"].apply(lambda x:\"Yes\" if x > 40 else \"No\")\n",
    "    return hr_data"
   ]
  },
  {
   "cell_type": "code",
   "execution_count": 6,
   "id": "6170c47e-ad06-4d87-b32e-4cdd6e956ecf",
   "metadata": {},
   "outputs": [],
   "source": [
    "def income_grade(hr_data):\n",
    "    hr_data['income_grade'] = hr_data['MonthlyIncome'].apply(lambda x:'A' if x>5000 else 'B' if x>7000 else 'C')\n",
    "    return hr_data"
   ]
  },
  {
   "cell_type": "code",
   "execution_count": 8,
   "id": "16afa76d-b8b2-4168-a558-f6b503633550",
   "metadata": {},
   "outputs": [],
   "source": [
    "hr_data = increase_monthly_income(hr_data)\n",
    "hr_data = check_senior(hr_data)\n",
    "hr_data = income_grade(hr_data)"
   ]
  },
  {
   "cell_type": "code",
   "execution_count": 9,
   "id": "7e56dcee-a67e-4c14-95c5-626dc8f72611",
   "metadata": {},
   "outputs": [
    {
     "data": {
      "text/html": [
       "<div>\n",
       "<style scoped>\n",
       "    .dataframe tbody tr th:only-of-type {\n",
       "        vertical-align: middle;\n",
       "    }\n",
       "\n",
       "    .dataframe tbody tr th {\n",
       "        vertical-align: top;\n",
       "    }\n",
       "\n",
       "    .dataframe thead th {\n",
       "        text-align: right;\n",
       "    }\n",
       "</style>\n",
       "<table border=\"1\" class=\"dataframe\">\n",
       "  <thead>\n",
       "    <tr style=\"text-align: right;\">\n",
       "      <th></th>\n",
       "      <th>Age</th>\n",
       "      <th>MonthlyIncome</th>\n",
       "      <th>IsSenior</th>\n",
       "      <th>income_grade</th>\n",
       "    </tr>\n",
       "  </thead>\n",
       "  <tbody>\n",
       "    <tr>\n",
       "      <th>0</th>\n",
       "      <td>41</td>\n",
       "      <td>599.3</td>\n",
       "      <td>Yes</td>\n",
       "      <td>C</td>\n",
       "    </tr>\n",
       "    <tr>\n",
       "      <th>1</th>\n",
       "      <td>49</td>\n",
       "      <td>513.0</td>\n",
       "      <td>Yes</td>\n",
       "      <td>C</td>\n",
       "    </tr>\n",
       "    <tr>\n",
       "      <th>2</th>\n",
       "      <td>37</td>\n",
       "      <td>209.0</td>\n",
       "      <td>No</td>\n",
       "      <td>C</td>\n",
       "    </tr>\n",
       "    <tr>\n",
       "      <th>3</th>\n",
       "      <td>33</td>\n",
       "      <td>290.9</td>\n",
       "      <td>No</td>\n",
       "      <td>C</td>\n",
       "    </tr>\n",
       "    <tr>\n",
       "      <th>4</th>\n",
       "      <td>27</td>\n",
       "      <td>346.8</td>\n",
       "      <td>No</td>\n",
       "      <td>C</td>\n",
       "    </tr>\n",
       "  </tbody>\n",
       "</table>\n",
       "</div>"
      ],
      "text/plain": [
       "   Age  MonthlyIncome IsSenior income_grade\n",
       "0   41          599.3      Yes            C\n",
       "1   49          513.0      Yes            C\n",
       "2   37          209.0       No            C\n",
       "3   33          290.9       No            C\n",
       "4   27          346.8       No            C"
      ]
     },
     "execution_count": 9,
     "metadata": {},
     "output_type": "execute_result"
    }
   ],
   "source": [
    "hr_data[['Age','MonthlyIncome','IsSenior','income_grade']].head()"
   ]
  },
  {
   "cell_type": "code",
   "execution_count": null,
   "id": "e52b6336-4dd4-4f01-b633-aceb3e030e1c",
   "metadata": {},
   "outputs": [],
   "source": []
  },
  {
   "cell_type": "code",
   "execution_count": null,
   "id": "6c48d595-d55a-4fe0-8e16-cb870c8ea845",
   "metadata": {},
   "outputs": [],
   "source": []
  }
 ],
 "metadata": {
  "kernelspec": {
   "display_name": "Python 3 (ipykernel)",
   "language": "python",
   "name": "python3"
  },
  "language_info": {
   "codemirror_mode": {
    "name": "ipython",
    "version": 3
   },
   "file_extension": ".py",
   "mimetype": "text/x-python",
   "name": "python",
   "nbconvert_exporter": "python",
   "pygments_lexer": "ipython3",
   "version": "3.11.0"
  }
 },
 "nbformat": 4,
 "nbformat_minor": 5
}
